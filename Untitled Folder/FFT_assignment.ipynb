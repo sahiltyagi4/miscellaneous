{
 "cells": [
  {
   "cell_type": "code",
   "execution_count": 1,
   "metadata": {},
   "outputs": [
    {
     "name": "stdout",
     "output_type": "stream",
     "text": [
      "Requirement already satisfied: imageio in /Users/sahiltyagi/opt/miniconda3/envs/pythonversion3/lib/python3.8/site-packages (2.9.0)\n",
      "Requirement already satisfied: numpy in /Users/sahiltyagi/opt/miniconda3/envs/pythonversion3/lib/python3.8/site-packages (from imageio) (1.19.4)\n",
      "Requirement already satisfied: pillow in /Users/sahiltyagi/opt/miniconda3/envs/pythonversion3/lib/python3.8/site-packages (from imageio) (8.1.0)\n",
      "Note: you may need to restart the kernel to use updated packages.\n"
     ]
    }
   ],
   "source": [
    "pip install imageio"
   ]
  },
  {
   "cell_type": "code",
   "execution_count": 64,
   "metadata": {},
   "outputs": [
    {
     "name": "stdout",
     "output_type": "stream",
     "text": [
      "(206, 206)\n",
      "(-57.898163+61.964012j)\n",
      "(-58.898163-61.964012j)\n",
      "done removing HI freq components...\n"
     ]
    },
    {
     "name": "stderr",
     "output_type": "stream",
     "text": [
      "<ipython-input-64-ba0224647d0c>:29: RuntimeWarning: divide by zero encountered in log\n",
      "  imageio.imsave('/Users/sahiltyagi/Desktop/fft_new.png', (numpy.log(abs(fft2))* 255 /numpy.amax(numpy.log(abs(fft2)))).astype(numpy.uint8))\n"
     ]
    }
   ],
   "source": [
    "from scipy import fftpack\n",
    "from scipy.ndimage import gaussian_filter\n",
    "import imageio\n",
    "import numpy\n",
    "\n",
    "image = imageio.imread('/Users/sahiltyagi/Downloads/pichu-secret-1.png',as_gray=True)\n",
    "fft2 = fftpack.fftshift(fftpack.fft2(image))\n",
    "imageio.imsave('/Users/sahiltyagi/Desktop/fft.png', (numpy.log(abs(fft2))* 255 /numpy.amax(numpy.log(abs(fft2)))).astype(numpy.uint8))\n",
    "fft2[1,1]=fft2[1,1]+1\n",
    "ifft2 = abs(fftpack.ifft2(fftpack.ifftshift(fft2)))\n",
    "imageio.imsave('/Users/sahiltyagi/Desktop/fft-then-ifft.png', ifft2.astype(numpy.uint8))\n",
    "\n",
    "gaussian_filter(image, sigma=1)\n",
    "\n",
    "print(fft2.shape)\n",
    "# print(fft2[-1,-10])\n",
    "# print(fft2[1,10])\n",
    "\n",
    "print(fft2[-205,-205])\n",
    "print(fft2[205,205])\n",
    "\n",
    "for i in range(112,130):\n",
    "    for j in range(112,130):\n",
    "        fft2[i,j] = 0\n",
    "        fft2[-i,-j] = 0\n",
    "        \n",
    "ifft2 = abs(fftpack.ifft2(fftpack.ifftshift(fft2)))\n",
    "print('done removing HI freq components...')\n",
    "imageio.imsave('/Users/sahiltyagi/Desktop/fft_new.png', (numpy.log(abs(fft2))* 255 /numpy.amax(numpy.log(abs(fft2)))).astype(numpy.uint8))\n",
    "imageio.imsave('/Users/sahiltyagi/Desktop/fft-then-ifft.png', ifft2.astype(numpy.uint8))"
   ]
  },
  {
   "cell_type": "code",
   "execution_count": 17,
   "metadata": {},
   "outputs": [
    {
     "name": "stdout",
     "output_type": "stream",
     "text": [
      "(-13.39053+48.691063j)\n",
      "(-13.39053-48.691063j)\n"
     ]
    }
   ],
   "source": [
    "print(fft2[-10,15])\n",
    "print(fft2[10,-15])"
   ]
  },
  {
   "cell_type": "code",
   "execution_count": null,
   "metadata": {},
   "outputs": [],
   "source": []
  }
 ],
 "metadata": {
  "kernelspec": {
   "display_name": "pythonversion3",
   "language": "python",
   "name": "pythonversion3"
  },
  "language_info": {
   "codemirror_mode": {
    "name": "ipython",
    "version": 3
   },
   "file_extension": ".py",
   "mimetype": "text/x-python",
   "name": "python",
   "nbconvert_exporter": "python",
   "pygments_lexer": "ipython3",
   "version": "3.8.5"
  }
 },
 "nbformat": 4,
 "nbformat_minor": 2
}
