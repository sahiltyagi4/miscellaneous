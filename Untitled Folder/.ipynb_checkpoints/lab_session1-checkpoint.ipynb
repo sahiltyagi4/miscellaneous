{
 "cells": [
  {
   "cell_type": "code",
   "execution_count": 83,
   "metadata": {},
   "outputs": [
    {
     "name": "stdout",
     "output_type": "stream",
     "text": [
      "Requirement already satisfied: pillow in /Users/sahiltyagi/opt/miniconda3/envs/pythonversion3/lib/python3.8/site-packages (8.1.0)\n",
      "Note: you may need to restart the kernel to use updated packages.\n"
     ]
    }
   ],
   "source": [
    "pip install pillow"
   ]
  },
  {
   "cell_type": "code",
   "execution_count": 82,
   "metadata": {},
   "outputs": [
    {
     "name": "stdout",
     "output_type": "stream",
     "text": [
      "Collecting matplotlib\n",
      "  Downloading matplotlib-3.3.4-cp38-cp38-macosx_10_9_x86_64.whl (8.5 MB)\n",
      "\u001b[K     |████████████████████████████████| 8.5 MB 3.2 MB/s eta 0:00:01\n",
      "\u001b[?25hCollecting cycler>=0.10\n",
      "  Using cached cycler-0.10.0-py2.py3-none-any.whl (6.5 kB)\n",
      "Requirement already satisfied: numpy>=1.15 in /Users/sahiltyagi/opt/miniconda3/envs/pythonversion3/lib/python3.8/site-packages (from matplotlib) (1.19.4)\n",
      "Collecting kiwisolver>=1.0.1\n",
      "  Downloading kiwisolver-1.3.1-cp38-cp38-macosx_10_9_x86_64.whl (61 kB)\n",
      "\u001b[K     |████████████████████████████████| 61 kB 454 kB/s eta 0:00:01\n",
      "\u001b[?25hRequirement already satisfied: python-dateutil>=2.1 in /Users/sahiltyagi/opt/miniconda3/envs/pythonversion3/lib/python3.8/site-packages (from matplotlib) (2.8.1)\n",
      "Collecting pyparsing!=2.0.4,!=2.1.2,!=2.1.6,>=2.0.3\n",
      "  Using cached pyparsing-2.4.7-py2.py3-none-any.whl (67 kB)\n",
      "Requirement already satisfied: pillow>=6.2.0 in /Users/sahiltyagi/opt/miniconda3/envs/pythonversion3/lib/python3.8/site-packages (from matplotlib) (8.1.0)\n",
      "Requirement already satisfied: six in /Users/sahiltyagi/opt/miniconda3/envs/pythonversion3/lib/python3.8/site-packages (from cycler>=0.10->matplotlib) (1.15.0)\n",
      "Installing collected packages: cycler, kiwisolver, pyparsing, matplotlib\n",
      "Successfully installed cycler-0.10.0 kiwisolver-1.3.1 matplotlib-3.3.4 pyparsing-2.4.7\n",
      "Note: you may need to restart the kernel to use updated packages.\n"
     ]
    }
   ],
   "source": [
    "pip install matplotlib"
   ]
  },
  {
   "cell_type": "code",
   "execution_count": 84,
   "metadata": {},
   "outputs": [],
   "source": [
    "from PIL import Image\n",
    "from PIL import ImageFilter\n",
    "from PIL import ImageDraw\n",
    "import numpy as np\n",
    "import math\n",
    "import matplotlib.pyplot as plt\n",
    "import os"
   ]
  },
  {
   "cell_type": "markdown",
   "metadata": {},
   "source": [
    "HISTOGRAM GENERATION"
   ]
  },
  {
   "cell_type": "code",
   "execution_count": 75,
   "metadata": {},
   "outputs": [],
   "source": [
    "first_photo = os.path.join(os.getcwd(), 'first_photograph.png')\n",
    "# im = Image.open('/Users/sahiltyagi/Downloads/input_images/first_photograph.png')\n",
    "im = Image.open(first_photo)"
   ]
  },
  {
   "cell_type": "code",
   "execution_count": 64,
   "metadata": {},
   "outputs": [
    {
     "name": "stdout",
     "output_type": "stream",
     "text": [
      "image shape (400, 400)\n"
     ]
    }
   ],
   "source": [
    "image_pixels = np.zeros([im.width, im.height])\n",
    "print('image shape ' + str(image_pixels.shape))"
   ]
  },
  {
   "cell_type": "code",
   "execution_count": 65,
   "metadata": {},
   "outputs": [],
   "source": [
    "pixel_sum = 0.0\n",
    "for i in range(0, im.width):\n",
    "    for j in range(0, im.height):\n",
    "        image_pixels[i,j] = im.getpixel((i,j))\n",
    "        pixel_sum += im.getpixel((i,j))"
   ]
  },
  {
   "cell_type": "code",
   "execution_count": 92,
   "metadata": {},
   "outputs": [
    {
     "name": "stdout",
     "output_type": "stream",
     "text": [
      "flattened pixels length 160000\n"
     ]
    },
    {
     "data": {
      "image/png": "[encoded data removed]",
      "text/plain": [
       "<Figure size 432x288 with 1 Axes>"
      ]
     },
     "metadata": {
      "needs_background": "light"
     },
     "output_type": "display_data"
    }
   ],
   "source": [
    "flattened_pixels = np.reshape(image_pixels, [-1]).tolist()\n",
    "print('flattened pixels length ' + str(len(flattened_pixels)))\n",
    "\n",
    "plt.hist(flattened_pixels, bins=256)\n",
    "plt.xlabel('Pixel value')\n",
    "plt.title('First photograph histogram')\n",
    "plt.show()\n"
   ]
  },
  {
   "cell_type": "markdown",
   "metadata": {},
   "source": [
    "# TASK1: IMAGE WHITENING"
   ]
  },
  {
   "cell_type": "code",
   "execution_count": 66,
   "metadata": {},
   "outputs": [
    {
     "name": "stdout",
     "output_type": "stream",
     "text": [
      "19535284.0\n",
      "mean of the pixels for whitening: 122.095525\n"
     ]
    }
   ],
   "source": [
    "print(pixel_sum)\n",
    "mean = pixel_sum/(im.width * im.height)\n",
    "print('mean of the pixels for whitening: ' + str(mean))"
   ]
  },
  {
   "cell_type": "code",
   "execution_count": 67,
   "metadata": {},
   "outputs": [
    {
     "name": "stdout",
     "output_type": "stream",
     "text": [
      "7943.379962474374\n",
      "89.12564144214825\n"
     ]
    }
   ],
   "source": [
    "variance = np.sum(np.square(image_pixels - mean))/(im.width * im.height)\n",
    "print(variance)\n",
    "print(math.sqrt(variance))"
   ]
  },
  {
   "cell_type": "code",
   "execution_count": 68,
   "metadata": {},
   "outputs": [
    {
     "name": "stdout",
     "output_type": "stream",
     "text": [
      "(400, 400)\n"
     ]
    }
   ],
   "source": [
    "transformed_image = (image_pixels - mean)/variance1\n",
    "print(transformed_image.shape)"
   ]
  },
  {
   "cell_type": "code",
   "execution_count": 69,
   "metadata": {},
   "outputs": [
    {
     "name": "stdout",
     "output_type": "stream",
     "text": [
      "[[ 1.06483918e+00  1.04239895e+00  1.06483918e+00 ...  1.78450048e-01\n",
      "   2.56990857e-01 -3.04014923e-01]\n",
      " [ 1.06483918e+00  1.04239895e+00  1.06483918e+00 ...  1.67229932e-01\n",
      "   3.57971898e-01  2.45770742e-01]\n",
      " [ 1.07605930e+00  1.05361906e+00  1.08727941e+00 ... -2.35120327e-02\n",
      "   2.34550626e-01  8.86891233e-02]\n",
      " ...\n",
      " [ 1.07605930e+00  1.05361906e+00  1.07605930e+00 ...  2.13684297e-02\n",
      "  -2.14253998e-01 -1.35713189e-01]\n",
      " [ 1.07605930e+00  1.05361906e+00  1.07605930e+00 ... -1.07180154e-03\n",
      "   8.86891233e-02  4.38086609e-02]\n",
      " [ 1.07605930e+00  1.05361906e+00  1.07605930e+00 ...  5.59933979e-01\n",
      "   3.57971898e-01 -7.96126108e-02]]\n"
     ]
    }
   ],
   "source": [
    "print(transformed_image)"
   ]
  },
  {
   "cell_type": "code",
   "execution_count": 74,
   "metadata": {},
   "outputs": [],
   "source": [
    "im_whitened = Image.fromarray(np.transpose(transformed_image*255))\n",
    "im_whitened = im_whitened.convert(\"L\")\n",
    "im_whitened.save('whitening_firstphotograph.png')\n",
    "im_whitened.show()"
   ]
  },
  {
   "cell_type": "markdown",
   "metadata": {},
   "source": [
    "# TASK2: HISTOGRAM EQUALIZATION"
   ]
  },
  {
   "cell_type": "code",
   "execution_count": 157,
   "metadata": {},
   "outputs": [],
   "source": [
    "first_photo = os.path.join(os.getcwd(), 'first_photograph.png')\n",
    "# im2 = Image.open('/Users/sahiltyagi/Downloads/input_images/first_photograph.png')\n",
    "im2 = Image.open(first_photo)\n",
    "image_pixels2 = np.zeros([im2.width, im2.height])\n",
    "for i in range(0, im2.width):\n",
    "    for j in range(0, im2.height):\n",
    "        image_pixels2[i,j] = im2.getpixel((i,j))\n",
    "        "
   ]
  },
  {
   "cell_type": "code",
   "execution_count": 158,
   "metadata": {},
   "outputs": [
    {
     "data": {
      "image/png": "[encoded data removed]",
      "text/plain": [
       "<Figure size 432x288 with 1 Axes>"
      ]
     },
     "metadata": {
      "needs_background": "light"
     },
     "output_type": "display_data"
    }
   ],
   "source": [
    "# converting all pixel intensity values to a 1D vector\n",
    "flattened_pixels2 = np.reshape(image_pixels2, [-1]).tolist()\n",
    "bin_size = 256\n",
    "\n",
    "counts, bins, bars = plt.hist(flattened_pixels2,bins=bin_size)\n"
   ]
  },
  {
   "cell_type": "code",
   "execution_count": 159,
   "metadata": {},
   "outputs": [
    {
     "name": "stdout",
     "output_type": "stream",
     "text": [
      "160000.0\n",
      "1.0\n",
      "sum of histcum pixel intensities 255.0\n"
     ]
    },
    {
     "data": {
      "image/png": "[encoded data removed]",
      "text/plain": [
       "<Figure size 432x288 with 1 Axes>"
      ]
     },
     "metadata": {
      "needs_background": "light"
     },
     "output_type": "display_data"
    }
   ],
   "source": [
    "histcum = np.array(counts)\n",
    "print(np.sum(histcum))\n",
    "histcum = histcum/(im2.width * im2.height)\n",
    "print(np.sum(histcum))\n",
    "histcum = histcum * 255\n",
    "sum_histcum = np.sum(histcum)\n",
    "print('sum of histcum pixel intensities ' + str(sum_histcum))\n",
    "hist_tolist = histcum.tolist()\n",
    "plt.hist(hist_tolist, bins=bin_size)\n",
    "plt.show()\n"
   ]
  },
  {
   "cell_type": "code",
   "execution_count": 160,
   "metadata": {},
   "outputs": [
    {
     "name": "stdout",
     "output_type": "stream",
     "text": [
      "256\n"
     ]
    }
   ],
   "source": [
    "print(len(hist_tolist))\n",
    "histcum_mapping = {}\n",
    "for i in range(0, len(histcum)):\n",
    "    histcum_mapping[i] = float(hist_tolist[i])\n"
   ]
  },
  {
   "cell_type": "code",
   "execution_count": 161,
   "metadata": {},
   "outputs": [],
   "source": [
    "image_pixels3 = np.zeros([im2.width, im2.height])\n",
    "for i in range(0, im2.width):\n",
    "    for j in range(0, im2.height):\n",
    "        image_pixels3[i,j] = histcum_mapping[im2.getpixel((i,j))]\n"
   ]
  },
  {
   "cell_type": "code",
   "execution_count": 162,
   "metadata": {},
   "outputs": [],
   "source": [
    "hist_equalization = Image.fromarray(np.transpose(image_pixels3*255))\n",
    "hist_equalization = hist_equalization.convert(\"L\")\n",
    "hist_equalization.show()\n",
    "\n",
    "hist_equalization.save('hist_equilize_firstphoto.png')\n"
   ]
  },
  {
   "cell_type": "markdown",
   "metadata": {},
   "source": [
    "# EXTRA CREDIT"
   ]
  },
  {
   "cell_type": "markdown",
   "metadata": {},
   "source": [
    "APPLYING HISTOGRAM EQUALIZATION TO 'HIMALAYA' IMAGE"
   ]
  },
  {
   "cell_type": "code",
   "execution_count": 199,
   "metadata": {},
   "outputs": [],
   "source": [
    "himalaya = os.path.join(os.getcwd(), 'himalaya.png')\n",
    "# im3 = Image.open('/Users/sahiltyagi/Downloads/input_images/himalaya.png')\n",
    "im3 = Image.open(himalaya)\n",
    "band0 = np.zeros([im3.width, im3.height])\n",
    "band1 = np.zeros([im3.width, im3.height])\n",
    "band2 = np.zeros([im3.width, im3.height])\n",
    "band3 = np.zeros([im3.width, im3.height])\n",
    "for i in range(0, im3.width):\n",
    "    for j in range(0, im3.height):\n",
    "        band0[i,j] = im3.getpixel((i,j))[0]\n",
    "        band1[i,j] = im3.getpixel((i,j))[1]\n",
    "        band2[i,j] = im3.getpixel((i,j))[2]\n",
    "        band3[i,j] = im3.getpixel((i,j))[3]\n",
    "        "
   ]
  },
  {
   "cell_type": "code",
   "execution_count": 200,
   "metadata": {},
   "outputs": [],
   "source": [
    "band0 = np.reshape(band0, [-1]).tolist()\n",
    "band1 = np.reshape(band1, [-1]).tolist()\n",
    "band2 = np.reshape(band2, [-1]).tolist()\n",
    "band3 = np.reshape(band3, [-1]).tolist()"
   ]
  },
  {
   "cell_type": "code",
   "execution_count": 201,
   "metadata": {},
   "outputs": [
    {
     "data": {
      "image/png": "[encoded data removed]",
      "text/plain": [
       "<Figure size 432x288 with 1 Axes>"
      ]
     },
     "metadata": {
      "needs_background": "light"
     },
     "output_type": "display_data"
    }
   ],
   "source": [
    "bin_size = 256\n",
    "band0,_,_ = plt.hist(band0,bins=bin_size)"
   ]
  },
  {
   "cell_type": "code",
   "execution_count": 202,
   "metadata": {},
   "outputs": [
    {
     "data": {
      "image/png": "[encoded data removed]",
      "text/plain": [
       "<Figure size 432x288 with 1 Axes>"
      ]
     },
     "metadata": {
      "needs_background": "light"
     },
     "output_type": "display_data"
    }
   ],
   "source": [
    "band1,_,_ = plt.hist(band1,bins=bin_size)"
   ]
  },
  {
   "cell_type": "code",
   "execution_count": 203,
   "metadata": {},
   "outputs": [
    {
     "data": {
      "image/png": "[encoded data removed]",
      "text/plain": [
       "<Figure size 432x288 with 1 Axes>"
      ]
     },
     "metadata": {
      "needs_background": "light"
     },
     "output_type": "display_data"
    }
   ],
   "source": [
    "band2,_,_ = plt.hist(band2,bins=bin_size)"
   ]
  },
  {
   "cell_type": "code",
   "execution_count": 204,
   "metadata": {},
   "outputs": [
    {
     "data": {
      "image/png": "[encoded data removed]",
      "text/plain": [
       "<Figure size 432x288 with 1 Axes>"
      ]
     },
     "metadata": {
      "needs_background": "light"
     },
     "output_type": "display_data"
    }
   ],
   "source": [
    "band3,_,_ = plt.hist(band3,bins=bin_size)"
   ]
  },
  {
   "cell_type": "code",
   "execution_count": 205,
   "metadata": {},
   "outputs": [
    {
     "name": "stdout",
     "output_type": "stream",
     "text": [
      "sum of histcum pixel intensities 255.0\n"
     ]
    }
   ],
   "source": [
    "histcum0 = np.array(band0)\n",
    "\n",
    "histcum0 = histcum0/(im3.width * im3.height)\n",
    "histcum0 = histcum0 * 255\n",
    "sum_histcum0 = np.sum(histcum0)\n",
    "print('sum of histcum pixel intensities ' + str(sum_histcum0))\n",
    "hist_tolist0 = histcum0.tolist()"
   ]
  },
  {
   "cell_type": "code",
   "execution_count": 206,
   "metadata": {},
   "outputs": [
    {
     "name": "stdout",
     "output_type": "stream",
     "text": [
      "sum of histcum pixel intensities 255.0\n"
     ]
    }
   ],
   "source": [
    "histcum1 = np.array(band1)\n",
    "\n",
    "histcum1 = histcum1/(im3.width * im3.height)\n",
    "histcum1 = histcum1 * 255\n",
    "sum_histcum1 = np.sum(histcum1)\n",
    "print('sum of histcum pixel intensities ' + str(sum_histcum1))\n",
    "hist_tolist1 = histcum1.tolist()"
   ]
  },
  {
   "cell_type": "code",
   "execution_count": 207,
   "metadata": {},
   "outputs": [
    {
     "name": "stdout",
     "output_type": "stream",
     "text": [
      "sum of histcum pixel intensities 255.0\n"
     ]
    }
   ],
   "source": [
    "histcum2 = np.array(band2)\n",
    "\n",
    "histcum2 = histcum2/(im3.width * im3.height)\n",
    "histcum2 = histcum2 * 255\n",
    "sum_histcum2 = np.sum(histcum2)\n",
    "print('sum of histcum pixel intensities ' + str(sum_histcum2))\n",
    "hist_tolist2 = histcum2.tolist()"
   ]
  },
  {
   "cell_type": "code",
   "execution_count": 208,
   "metadata": {},
   "outputs": [
    {
     "name": "stdout",
     "output_type": "stream",
     "text": [
      "sum of histcum pixel intensities 255.0\n"
     ]
    }
   ],
   "source": [
    "histcum3 = np.array(band3)\n",
    "\n",
    "histcum3 = histcum3/(im3.width * im3.height)\n",
    "histcum3 = histcum3 * 255\n",
    "sum_histcum3 = np.sum(histcum3)\n",
    "print('sum of histcum pixel intensities ' + str(sum_histcum3))\n",
    "hist_tolist3 = histcum3.tolist()"
   ]
  },
  {
   "cell_type": "code",
   "execution_count": 210,
   "metadata": {},
   "outputs": [
    {
     "name": "stdout",
     "output_type": "stream",
     "text": [
      "256\n",
      "256\n",
      "256\n",
      "256\n"
     ]
    }
   ],
   "source": [
    "print(len(hist_tolist0))\n",
    "print(len(hist_tolist1))\n",
    "print(len(hist_tolist2))\n",
    "print(len(hist_tolist3))"
   ]
  },
  {
   "cell_type": "code",
   "execution_count": 237,
   "metadata": {},
   "outputs": [],
   "source": [
    "histcum_mapping0 = {}\n",
    "histcum_mapping1 = {}\n",
    "histcum_mapping2 = {}\n",
    "histcum_mapping3 = {}\n",
    "for i in range(0, len(histcum0)):\n",
    "    histcum_mapping0[i] = float(hist_tolist0[i])\n",
    "    histcum_mapping1[i] = float(hist_tolist1[i])\n",
    "    histcum_mapping2[i] = float(hist_tolist2[i])\n",
    "    histcum_mapping3[i] = float(hist_tolist3[i])\n"
   ]
  },
  {
   "cell_type": "code",
   "execution_count": 261,
   "metadata": {},
   "outputs": [],
   "source": [
    "new_im = Image.new('CMYK', (im3.width , im3.height), color =0)\n",
    "\n",
    "for i in range(0, im3.width):\n",
    "    for j in range(0, im3.height):\n",
    "        #a = (int(histcum_mapping0[im3.getpixel((i,j))[0]]), int(histcum_mapping1[im3.getpixel((i,j))[1]]), int(histcum_mapping2[im3.getpixel((i,j))[2]]), int(histcum_mapping3[im3.getpixel((i,j))[3]]))\n",
    "        #print(a)\n",
    "        \n",
    "        new_im.putpixel((i,j), (int(histcum_mapping0[im3.getpixel((i,j))[0]]), int(histcum_mapping1[im3.getpixel((i,j))[1]]), int(histcum_mapping2[im3.getpixel((i,j))[2]]), int(histcum_mapping3[im3.getpixel((i,j))[3]])))\n",
    "        \n",
    "new_im.show()"
   ]
  },
  {
   "cell_type": "code",
   "execution_count": 195,
   "metadata": {},
   "outputs": [
    {
     "name": "stdout",
     "output_type": "stream",
     "text": [
      "167334\n",
      "(42, 42, 42, 255)\n",
      "255\n"
     ]
    }
   ],
   "source": [
    "print(len(image_pixels3))\n",
    "print(im3.getpixel((10,50)))\n",
    "print(im3.getpixel((0,0))[3])\n"
   ]
  },
  {
   "cell_type": "code",
   "execution_count": 277,
   "metadata": {},
   "outputs": [
    {
     "name": "stdout",
     "output_type": "stream",
     "text": [
      "501\n",
      "334\n"
     ]
    },
    {
     "data": {
      "image/png": "[encoded data removed]",
      "text/plain": [
       "<Figure size 432x288 with 1 Axes>"
      ]
     },
     "metadata": {
      "needs_background": "light"
     },
     "output_type": "display_data"
    }
   ],
   "source": [
    "# alternate approach\n",
    "himalaya = os.path.join(os.getcwd(), 'himalaya.png')\n",
    "im3 = Image.open(himalaya)\n",
    "\n",
    "#im3 = Image.open('/Users/sahiltyagi/Downloads/input_images/himalaya.png')\n",
    "print(im3.width)\n",
    "print(im3.height)\n",
    "image_pixels4 = np.empty([im3.width, im3.height, 4])\n",
    "for i in range(0, im3.width):\n",
    "    for j in range(0, im3.height):\n",
    "        image_pixels4[i,j] = im3.getpixel((i,j))\n",
    "        \n",
    "# converting all pixel intensity values to a 1D vector\n",
    "flattened_pixels3 = np.reshape(image_pixels4, [-1]).tolist()\n",
    "bin_size = 256\n",
    "\n",
    "counts3, bins, bars = plt.hist(flattened_pixels3,bins=bin_size)\n"
   ]
  },
  {
   "cell_type": "code",
   "execution_count": 278,
   "metadata": {},
   "outputs": [
    {
     "name": "stdout",
     "output_type": "stream",
     "text": [
      "669336\n"
     ]
    }
   ],
   "source": [
    "print(len(flattened_pixels3))"
   ]
  },
  {
   "cell_type": "code",
   "execution_count": 279,
   "metadata": {},
   "outputs": [
    {
     "name": "stdout",
     "output_type": "stream",
     "text": [
      "sum of histcum pixel intensities 1020.0\n"
     ]
    }
   ],
   "source": [
    "histcum = np.array(counts3)\n",
    "histcum = histcum/(im3.width * im3.height)\n",
    "histcum = histcum * 255\n",
    "sum_histcum = np.sum(histcum)\n",
    "print('sum of histcum pixel intensities ' + str(sum_histcum))\n",
    "hist_tolist = histcum.tolist()\n"
   ]
  },
  {
   "cell_type": "code",
   "execution_count": 280,
   "metadata": {},
   "outputs": [
    {
     "name": "stdout",
     "output_type": "stream",
     "text": [
      "256\n"
     ]
    }
   ],
   "source": [
    "print(len(hist_tolist))\n",
    "histcum_mapping = {}\n",
    "for i in range(0, len(histcum)):\n",
    "    histcum_mapping[i] = float(hist_tolist[i])"
   ]
  },
  {
   "cell_type": "code",
   "execution_count": 281,
   "metadata": {},
   "outputs": [
    {
     "name": "stdout",
     "output_type": "stream",
     "text": [
      "{0: 16.188371759475064, 1: 18.684517193158594, 2: 22.675606870092153, 3: 18.55193804008749, 4: 19.082254652371905, 5: 18.359926852881063, 6: 19.278837534511815, 7: 18.85824160063107, 8: 18.86738499049805, 9: 17.69245939259206, 10: 17.46844634085123, 11: 16.581537523754886, 12: 15.584908028254867, 13: 14.688855821291549, 14: 13.998529886335115, 15: 14.752859550360357, 16: 13.879665818064469, 17: 13.875094123130983, 18: 12.965326831367205, 19: 12.878464627630967, 20: 11.785829538527734, 21: 11.438380723582775, 22: 11.410950553981857, 23: 9.938864785399263, 24: 9.527412241385493, 25: 9.193678511240991, 26: 8.827942916562085, 27: 8.224479185341892, 28: 7.762737997059773, 29: 7.401574097314354, 30: 7.223277994908386, 31: 6.807253755961132, 32: 6.761536806626268, 33: 5.979776973000108, 34: 6.363799347412958, 35: 5.632328158055147, 36: 5.431173580981749, 37: 5.495177310050558, 38: 5.230019003908351, 39: 4.864283409229445, 40: 4.6082684929542115, 41: 4.265391372942737, 42: 4.347681881745491, 43: 4.027663236401449, 44: 3.767076625192728, 45: 3.4150561153142815, 46: 3.3967693355803363, 47: 3.104180859837212, 48: 3.2001864534404243, 49: 2.930456452364732, 50: 3.08132238516978, 51: 2.8710244182294096, 52: 2.9533149270321633, 53: 2.8390225536950053, 54: 2.948743232098677, 55: 2.916741367564273, 56: 2.8618810283624367, 57: 2.921313062497759, 58: 3.0173186561009717, 59: 2.930456452364732, 60: 3.0127469611674855, 61: 2.9075979776973, 62: 3.0538922155688626, 63: 2.802448994227115, 64: 2.7155867904908746, 65: 3.0447488257018898, 66: 3.090465775036753, 67: 3.364767471045932, 68: 3.8265086593280504, 69: 3.4196278102477677, 70: 4.228817813474847, 71: 3.4013410305138225, 72: 3.821936964394564, 73: 3.424199505181254, 74: 3.3419089963785003, 75: 3.0218903510344584, 76: 3.099609164903726, 77: 3.1590411990390472, 78: 3.319050521711069, 79: 3.268761877442719, 80: 3.5522069633188713, 81: 3.5613503531858437, 82: 3.4013410305138225, 83: 4.57169493348632, 84: 4.841424934562014, 85: 6.624385958621679, 86: 6.532952059951953, 87: 5.911201548997813, 88: 6.043780702068917, 89: 5.961490193266163, 90: 5.522607479651476, 91: 6.651816128222597, 92: 6.432374771415254, 93: 6.468948330883144, 94: 8.635931729355661, 95: 8.98338054430062, 96: 9.513697156585033, 97: 9.083957832837319, 98: 6.587812399153789, 99: 5.41745849618129, 100: 7.291853418910682, 101: 6.38665782208039, 102: 2.038975940334899, 103: 0.5943203413532216, 104: 0.370307289612392, 105: 0.21486966187385706, 106: 0.11429237333715801, 107: 0.05943203413532217, 108: 0.05486033920183585, 109: 0.04114525440137689, 110: 0.03200186453440424, 111: 0.018286779733945283, 112: 0.009143389866972641, 113: 0.004571694933486321, 114: 0.0, 115: 0.0, 116: 0.0, 117: 0.0, 118: 0.0, 119: 0.0, 120: 0.0, 121: 0.0, 122: 0.0, 123: 0.0, 124: 0.0, 125: 0.0, 126: 0.0, 127: 0.0, 128: 0.0, 129: 0.0, 130: 0.0, 131: 0.0, 132: 0.0, 133: 0.0, 134: 0.0, 135: 0.0, 136: 0.0, 137: 0.0, 138: 0.0, 139: 0.0, 140: 0.0, 141: 0.0, 142: 0.0, 143: 0.0, 144: 0.0, 145: 0.0, 146: 0.0, 147: 0.0, 148: 0.0, 149: 0.0, 150: 0.0, 151: 0.0, 152: 0.0, 153: 0.0, 154: 0.0, 155: 0.0, 156: 0.0, 157: 0.0, 158: 0.0, 159: 0.0, 160: 0.0, 161: 0.0, 162: 0.0, 163: 0.0, 164: 0.0, 165: 0.0, 166: 0.0, 167: 0.0, 168: 0.0, 169: 0.0, 170: 0.0, 171: 0.0, 172: 0.0, 173: 0.0, 174: 0.0, 175: 0.0, 176: 0.0, 177: 0.0, 178: 0.0, 179: 0.0, 180: 0.0, 181: 0.0, 182: 0.0, 183: 0.0, 184: 0.0, 185: 0.0, 186: 0.0, 187: 0.0, 188: 0.0, 189: 0.0, 190: 0.0, 191: 0.0, 192: 0.0, 193: 0.0, 194: 0.0, 195: 0.0, 196: 0.0, 197: 0.0, 198: 0.0, 199: 0.0, 200: 0.0, 201: 0.0, 202: 0.0, 203: 0.0, 204: 0.0, 205: 0.0, 206: 0.0, 207: 0.0, 208: 0.0, 209: 0.0, 210: 0.0, 211: 0.0, 212: 0.0, 213: 0.0, 214: 0.0, 215: 0.0, 216: 0.0, 217: 0.0, 218: 0.0, 219: 0.0, 220: 0.0, 221: 0.0, 222: 0.0, 223: 0.0, 224: 0.0, 225: 0.0, 226: 0.0, 227: 0.0, 228: 0.0, 229: 0.0, 230: 0.0, 231: 0.0, 232: 0.0, 233: 0.0, 234: 0.0, 235: 0.0, 236: 0.0, 237: 0.0, 238: 0.0, 239: 0.0, 240: 1.5269461077844313, 241: 0.0, 242: 0.0, 243: 0.0, 244: 0.0, 245: 0.0, 246: 0.0, 247: 0.0, 248: 0.0, 249: 0.0, 250: 0.0, 251: 0.0, 252: 0.0, 253: 0.0, 254: 0.0, 255: 255.0}\n"
     ]
    }
   ],
   "source": [
    "print(histcum_mapping)"
   ]
  },
  {
   "cell_type": "code",
   "execution_count": 309,
   "metadata": {},
   "outputs": [],
   "source": [
    "image_pixels3 = np.empty([im3.width, im3.height, 4])\n",
    "new_im = Image.new('P', (im3.width , im3.height), color =0)\n",
    "\n",
    "for i in range(0, im3.width):\n",
    "    for j in range(0, im3.height):\n",
    "        \n",
    "        val0 = im3.getpixel((i,j))[0]\n",
    "        val1 = im3.getpixel((i,j))[1]\n",
    "        val2 = im3.getpixel((i,j))[2]\n",
    "        val3 = im3.getpixel((i,j))[3]\n",
    "        \n",
    "        transformed_val0 = int(histcum_mapping[val0])\n",
    "        transformed_val1 = int(histcum_mapping[val1])\n",
    "        transformed_val2 = int(histcum_mapping[val2])\n",
    "        transformed_val3 = int(histcum_mapping[val3])\n",
    "        \n",
    "        tuple_val = (transformed_val0, transformed_val1, transformed_val2, transformed_val3)\n",
    "        #print(tuple_val)\n",
    "        new_im.putpixel((i,j), tuple_val)\n",
    "        \n",
    "        image_pixels3[i,j] = tuple_val\n",
    "        \n",
    "new_im.show()\n",
    "        "
   ]
  },
  {
   "cell_type": "code",
   "execution_count": 288,
   "metadata": {},
   "outputs": [
    {
     "name": "stdout",
     "output_type": "stream",
     "text": [
      "(501, 334, 4)\n"
     ]
    }
   ],
   "source": [
    "print(image_pixels3.shape)"
   ]
  },
  {
   "cell_type": "code",
   "execution_count": null,
   "metadata": {},
   "outputs": [],
   "source": []
  }
 ],
 "metadata": {
  "kernelspec": {
   "display_name": "pythonversion3",
   "language": "python",
   "name": "pythonversion3"
  },
  "language_info": {
   "codemirror_mode": {
    "name": "ipython",
    "version": 3
   },
   "file_extension": ".py",
   "mimetype": "text/x-python",
   "name": "python",
   "nbconvert_exporter": "python",
   "pygments_lexer": "ipython3",
   "version": "3.8.5"
  }
 },
 "nbformat": 4,
 "nbformat_minor": 2
}
