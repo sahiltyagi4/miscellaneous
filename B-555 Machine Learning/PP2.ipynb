{
 "cells": [
  {
   "cell_type": "code",
   "execution_count": 214,
   "metadata": {},
   "outputs": [],
   "source": [
    "import numpy as np\n",
    "import os\n",
    "import random"
   ]
  },
  {
   "cell_type": "markdown",
   "metadata": {},
   "source": [
    "TASK 1"
   ]
  },
  {
   "cell_type": "code",
   "execution_count": 215,
   "metadata": {},
   "outputs": [
    {
     "name": "stdout",
     "output_type": "stream",
     "text": [
      "(1000, 100)\n",
      "(1000,)\n",
      "(298, 100)\n",
      "(298,)\n"
     ]
    }
   ],
   "source": [
    "artificial_train_data = np.loadtxt(open(\"/Users/sahiltyagi/Downloads/pp2data/train-artificial.csv\", \"rb\"), \n",
    "                                   delimiter=\",\")\n",
    "print(artificial_train_data.shape)\n",
    "\n",
    "artificialR_train_data = np.loadtxt(open(\"/Users/sahiltyagi/Downloads/pp2data/trainR-artificial.csv\", \"rb\"), \n",
    "                                   delimiter=\",\")\n",
    "print(artificialR_train_data.shape)\n",
    "\n",
    "crime_train_data = np.loadtxt(open(\"/Users/sahiltyagi/Downloads/pp2data/train-crime.csv\", \"rb\"), \n",
    "                                   delimiter=\",\")\n",
    "print(crime_train_data.shape)\n",
    "\n",
    "crimeR_train_data = np.loadtxt(open(\"/Users/sahiltyagi/Downloads/pp2data/trainR-crime.csv\", \"rb\"), \n",
    "                                   delimiter=\",\")\n",
    "print(crimeR_train_data.shape)"
   ]
  },
  {
   "cell_type": "code",
   "execution_count": 216,
   "metadata": {},
   "outputs": [
    {
     "name": "stdout",
     "output_type": "stream",
     "text": [
      "(1000, 100)\n",
      "(1000,)\n",
      "(1695, 100)\n",
      "(1695,)\n"
     ]
    }
   ],
   "source": [
    "artificial_test_data = np.loadtxt(open(\"/Users/sahiltyagi/Downloads/pp2data/test-artificial.csv\", \"rb\"), \n",
    "                                   delimiter=\",\")\n",
    "print(artificial_test_data.shape)\n",
    "\n",
    "artificialR_test_data = np.loadtxt(open(\"/Users/sahiltyagi/Downloads/pp2data/testR-artificial.csv\", \"rb\"), \n",
    "                                   delimiter=\",\")\n",
    "print(artificialR_test_data.shape)\n",
    "\n",
    "crime_test_data = np.loadtxt(open(\"/Users/sahiltyagi/Downloads/pp2data/test-crime.csv\", \"rb\"), \n",
    "                                   delimiter=\",\")\n",
    "print(crime_test_data.shape)\n",
    "\n",
    "crimeR_test_data = np.loadtxt(open(\"/Users/sahiltyagi/Downloads/pp2data/testR-crime.csv\", \"rb\"), \n",
    "                                   delimiter=\",\")\n",
    "print(crimeR_test_data.shape)"
   ]
  },
  {
   "cell_type": "code",
   "execution_count": 217,
   "metadata": {},
   "outputs": [],
   "source": [
    "def mse(w_vector, input_data, output_vector):\n",
    "    mse = (np.square(np.matmul(input_data, w_vector) - output_vector))/input_data.shape[0]\n",
    "    print('MSE on test set is ' + str(np.sum(mse)))\n",
    "    print('--------------------------------')"
   ]
  },
  {
   "cell_type": "code",
   "execution_count": 218,
   "metadata": {},
   "outputs": [
    {
     "name": "stdout",
     "output_type": "stream",
     "text": [
      "1000\n",
      "(999, 100)\n"
     ]
    }
   ],
   "source": [
    "frac = 1\n",
    "length = int(round(artificial_train_data.shape[0]*frac))\n",
    "print(length)\n",
    "b = artificial_train_data[1:(length+1),:]\n",
    "print(b.shape)"
   ]
  },
  {
   "cell_type": "code",
   "execution_count": 264,
   "metadata": {},
   "outputs": [],
   "source": [
    "def model_selection_algo(frac, iterations, input_data, output_data):\n",
    "    \n",
    "    alpha=random.randint(1,10)\n",
    "    beta=random.randint(1,10)\n",
    "    print('fraction of training data used ' + str(frac))\n",
    "#     print('starting alpha ' + str(alpha))\n",
    "#     print('starting beta ' + str(beta))\n",
    "    \n",
    "    ctr = 0\n",
    "    while ctr < iterations:\n",
    "        \n",
    "        eigen_vals = np.linalg.eigvals(np.multiply(beta, np.matmul(input_data.T, input_data)))\n",
    "        gamma = np.sum(np.divide(eigen_vals, eigen_vals + alpha))\n",
    "        \n",
    "        beta_phiT_t = beta * np.matmul(input_data.T, output_data)\n",
    "        beta_phiT_phi = np.multiply(beta, np.matmul(input_data.T, input_data))\n",
    "        \n",
    "        alpha_I = alpha * np.identity(input_data.shape[1])\n",
    "        S_N_inv = alpha_I + beta_phiT_phi\n",
    "        S_n = np.linalg.inv(S_N_inv)\n",
    "        m_N = np.matmul(S_n, beta_phiT_t)\n",
    "        alpha = gamma/np.matmul(m_N.T, m_N)\n",
    "        \n",
    "        one_over_beta = np.sum(np.square(output_data \n",
    "                        - np.matmul(input_data, m_N)))/(input_data.shape[0] - gamma)\n",
    "        beta = 1/one_over_beta\n",
    "        \n",
    "        ctr = ctr + 1\n",
    "#         print('alpha is ' + str(alpha))\n",
    "#         print('beta is ' + str(beta))\n",
    "#         print('gamma is ' + str(gamma))\n",
    "#         print('----------- finished iteration ----------- ' + str(ctr))\n",
    "\n",
    "    lambda_val = float(alpha)/float(beta)\n",
    "    print('alpha is ' + str(alpha))\n",
    "    print('beta is ' + str(beta))\n",
    "    print('gamma is ' + str(gamma))\n",
    "    print('lambda is ' + str(lambda_val))\n",
    "    return m_N"
   ]
  },
  {
   "cell_type": "markdown",
   "metadata": {},
   "source": [
    "(i) Model selection algo for alpha, beta and lambda on two training sets at various fractions"
   ]
  },
  {
   "cell_type": "code",
   "execution_count": 257,
   "metadata": {},
   "outputs": [
    {
     "name": "stdout",
     "output_type": "stream",
     "text": [
      "fraction of training data used 0.1\n",
      "alpha is 10.285792553266644\n",
      "beta is 1.8603093653179787\n",
      "gamma is 93.19441347804141\n",
      "lambda is 5.52907637032\n",
      "MSE on test set is 0.6083085922060165\n",
      "--------------------------------\n",
      "fraction of training data used 0.2\n",
      "alpha is 10.285792553266232\n",
      "beta is 1.8603093653179856\n",
      "gamma is 93.19441347804145\n",
      "lambda is 5.52907637032\n",
      "MSE on test set is 0.6083085922060403\n",
      "--------------------------------\n",
      "fraction of training data used 0.3\n",
      "alpha is 10.285792553266802\n",
      "beta is 1.8603093653179754\n",
      "gamma is 93.19441347804123\n",
      "lambda is 5.52907637032\n",
      "MSE on test set is 0.6083085922060322\n",
      "--------------------------------\n",
      "fraction of training data used 0.4\n",
      "alpha is 10.2857925532663\n",
      "beta is 1.8603093653179845\n",
      "gamma is 93.19441347804107\n",
      "lambda is 5.52907637032\n",
      "MSE on test set is 0.6083085922060267\n",
      "--------------------------------\n",
      "fraction of training data used 0.5\n",
      "alpha is 10.285792553266802\n",
      "beta is 1.8603093653179754\n",
      "gamma is 93.19441347804123\n",
      "lambda is 5.52907637032\n",
      "MSE on test set is 0.6083085922060322\n",
      "--------------------------------\n",
      "fraction of training data used 0.6\n",
      "alpha is 10.2857925532663\n",
      "beta is 1.8603093653179845\n",
      "gamma is 93.19441347804107\n",
      "lambda is 5.52907637032\n",
      "MSE on test set is 0.6083085922060267\n",
      "--------------------------------\n",
      "fraction of training data used 0.7\n",
      "alpha is 10.285792553266644\n",
      "beta is 1.8603093653179787\n",
      "gamma is 93.19441347804141\n",
      "lambda is 5.52907637032\n",
      "MSE on test set is 0.6083085922060165\n",
      "--------------------------------\n",
      "fraction of training data used 0.8\n",
      "alpha is 10.2857925532663\n",
      "beta is 1.8603093653179845\n",
      "gamma is 93.19441347804107\n",
      "lambda is 5.52907637032\n",
      "MSE on test set is 0.6083085922060267\n",
      "--------------------------------\n",
      "fraction of training data used 0.9\n",
      "alpha is 10.285792553266802\n",
      "beta is 1.8603093653179754\n",
      "gamma is 93.19441347804123\n",
      "lambda is 5.52907637032\n",
      "MSE on test set is 0.6083085922060322\n",
      "--------------------------------\n",
      "fraction of training data used 1.0\n",
      "alpha is 10.285792553266438\n",
      "beta is 1.8603093653179819\n",
      "gamma is 93.19441347804133\n",
      "lambda is 5.52907637032\n",
      "MSE on test set is 0.6083085922060112\n",
      "--------------------------------\n"
     ]
    }
   ],
   "source": [
    "m_N = model_selection_algo(0.1, 100, artificial_train_data, artificialR_train_data)\n",
    "mse(m_N, artificial_test_data, artificialR_test_data)\n",
    "m_N = model_selection_algo(0.2, 100, artificial_train_data, artificialR_train_data)\n",
    "mse(m_N, artificial_test_data, artificialR_test_data)\n",
    "m_N = model_selection_algo(0.3, 100, artificial_train_data, artificialR_train_data)\n",
    "mse(m_N, artificial_test_data, artificialR_test_data)\n",
    "m_N = model_selection_algo(0.4, 100, artificial_train_data, artificialR_train_data)\n",
    "mse(m_N, artificial_test_data, artificialR_test_data)\n",
    "m_N = model_selection_algo(0.5, 100, artificial_train_data, artificialR_train_data)\n",
    "mse(m_N, artificial_test_data, artificialR_test_data)\n",
    "m_N = model_selection_algo(0.6, 100, artificial_train_data, artificialR_train_data)\n",
    "mse(m_N, artificial_test_data, artificialR_test_data)\n",
    "m_N = model_selection_algo(0.7, 100, artificial_train_data, artificialR_train_data)\n",
    "mse(m_N, artificial_test_data, artificialR_test_data)\n",
    "m_N = model_selection_algo(0.8, 100, artificial_train_data, artificialR_train_data)\n",
    "mse(m_N, artificial_test_data, artificialR_test_data)\n",
    "m_N = model_selection_algo(0.9, 100, artificial_train_data, artificialR_train_data)\n",
    "mse(m_N, artificial_test_data, artificialR_test_data)\n",
    "m_N = model_selection_algo(1.0, 100, artificial_train_data, artificialR_train_data)\n",
    "mse(m_N, artificial_test_data, artificialR_test_data)"
   ]
  },
  {
   "cell_type": "code",
   "execution_count": 221,
   "metadata": {},
   "outputs": [
    {
     "name": "stdout",
     "output_type": "stream",
     "text": [
      "fraction of training data used 0.1\n",
      "alpha is 425.645363868256\n",
      "beta is 3.250432066425581\n",
      "gamma is 29.17432011209978\n",
      "lambda is 130.950395261\n",
      "MSE on test set is 0.2775322106427774\n",
      "--------------------------------\n",
      "fraction of training data used 0.2\n",
      "alpha is 425.64536386825637\n",
      "beta is 3.25043206642558\n",
      "gamma is 29.17432011209978\n",
      "lambda is 130.950395261\n",
      "MSE on test set is 0.27753221064277744\n",
      "--------------------------------\n",
      "fraction of training data used 0.3\n",
      "alpha is 425.64536386825694\n",
      "beta is 3.2504320664255797\n",
      "gamma is 29.174320112099775\n",
      "lambda is 130.950395261\n",
      "MSE on test set is 0.27753221064277744\n",
      "--------------------------------\n",
      "fraction of training data used 0.4\n",
      "alpha is 425.64536386825534\n",
      "beta is 3.2504320664255815\n",
      "gamma is 29.17432011209978\n",
      "lambda is 130.950395261\n",
      "MSE on test set is 0.27753221064277733\n",
      "--------------------------------\n",
      "fraction of training data used 0.5\n",
      "alpha is 425.64536386825563\n",
      "beta is 3.2504320664255815\n",
      "gamma is 29.174320112099803\n",
      "lambda is 130.950395261\n",
      "MSE on test set is 0.27753221064277733\n",
      "--------------------------------\n",
      "fraction of training data used 0.6\n",
      "alpha is 425.64536386825534\n",
      "beta is 3.2504320664255815\n",
      "gamma is 29.17432011209978\n",
      "lambda is 130.950395261\n",
      "MSE on test set is 0.27753221064277733\n",
      "--------------------------------\n",
      "fraction of training data used 0.7\n",
      "alpha is 425.64536386825534\n",
      "beta is 3.2504320664255815\n",
      "gamma is 29.17432011209978\n",
      "lambda is 130.950395261\n",
      "MSE on test set is 0.27753221064277733\n",
      "--------------------------------\n",
      "fraction of training data used 0.8\n",
      "alpha is 425.64536386825534\n",
      "beta is 3.2504320664255815\n",
      "gamma is 29.17432011209978\n",
      "lambda is 130.950395261\n",
      "MSE on test set is 0.27753221064277733\n",
      "--------------------------------\n",
      "fraction of training data used 0.9\n",
      "alpha is 425.64536386825637\n",
      "beta is 3.25043206642558\n",
      "gamma is 29.17432011209978\n",
      "lambda is 130.950395261\n",
      "MSE on test set is 0.27753221064277744\n",
      "--------------------------------\n",
      "fraction of training data used 1.0\n",
      "alpha is 425.64536386825625\n",
      "beta is 3.25043206642558\n",
      "gamma is 29.17432011209981\n",
      "lambda is 130.950395261\n",
      "MSE on test set is 0.2775322106427774\n",
      "--------------------------------\n"
     ]
    }
   ],
   "source": [
    "m_N = model_selection_algo(0.1, 100, crime_train_data, crimeR_train_data)\n",
    "mse(m_N, crime_train_data, crimeR_train_data)\n",
    "m_N = model_selection_algo(0.2, 100, crime_train_data, crimeR_train_data)\n",
    "mse(m_N, crime_train_data, crimeR_train_data)\n",
    "m_N = model_selection_algo(0.3, 100, crime_train_data, crimeR_train_data)\n",
    "mse(m_N, crime_train_data, crimeR_train_data)\n",
    "m_N = model_selection_algo(0.4, 100, crime_train_data, crimeR_train_data)\n",
    "mse(m_N, crime_train_data, crimeR_train_data)\n",
    "m_N = model_selection_algo(0.5, 100, crime_train_data, crimeR_train_data)\n",
    "mse(m_N, crime_train_data, crimeR_train_data)\n",
    "m_N = model_selection_algo(0.6, 100, crime_train_data, crimeR_train_data)\n",
    "mse(m_N, crime_train_data, crimeR_train_data)\n",
    "m_N = model_selection_algo(0.7, 100, crime_train_data, crimeR_train_data)\n",
    "mse(m_N, crime_train_data, crimeR_train_data)\n",
    "m_N = model_selection_algo(0.8, 100, crime_train_data, crimeR_train_data)\n",
    "mse(m_N, crime_train_data, crimeR_train_data)\n",
    "m_N = model_selection_algo(0.9, 100, crime_train_data, crimeR_train_data)\n",
    "mse(m_N, crime_train_data, crimeR_train_data)\n",
    "m_N = model_selection_algo(1.0, 100, crime_train_data, crimeR_train_data)\n",
    "mse(m_N, crime_train_data, crimeR_train_data)"
   ]
  },
  {
   "cell_type": "markdown",
   "metadata": {},
   "source": [
    "(ii) Comparison b/w model selection from above part (i) and maximum likelihood computed below:"
   ]
  },
  {
   "cell_type": "code",
   "execution_count": 222,
   "metadata": {},
   "outputs": [],
   "source": [
    "def maxlikelihood(frac, input_data, output_data):\n",
    "    \n",
    "    length = int(round(input_data.shape[0]*frac))\n",
    "    input_data = input_data[1:(length+1),:]\n",
    "    output_data = output_data[1:(length+1),]\n",
    "    \n",
    "    phiT_phi_inv = np.linalg.inv(np.matmul(input_data.T, input_data))\n",
    "    phiT_t = np.matmul(input_data.T, output_data)\n",
    "    maxL_w = np.matmul(phiT_phi_inv, phiT_t)\n",
    "    print(maxL_w.shape)\n",
    "    return maxL_w"
   ]
  },
  {
   "cell_type": "code",
   "execution_count": 223,
   "metadata": {},
   "outputs": [
    {
     "name": "stdout",
     "output_type": "stream",
     "text": [
      "(100,)\n",
      "MSE on test set is 219.09627478398653\n",
      "--------------------------------\n",
      "(100,)\n",
      "MSE on test set is 1.0489853386182555\n",
      "--------------------------------\n",
      "(100,)\n",
      "MSE on test set is 0.8294837270042104\n",
      "--------------------------------\n",
      "(100,)\n",
      "MSE on test set is 0.751892119834059\n",
      "--------------------------------\n",
      "(100,)\n",
      "MSE on test set is 0.7099640365927068\n",
      "--------------------------------\n",
      "(100,)\n",
      "MSE on test set is 0.6714748978108145\n",
      "--------------------------------\n",
      "(100,)\n",
      "MSE on test set is 0.6401553320837808\n",
      "--------------------------------\n",
      "(100,)\n",
      "MSE on test set is 0.6223892700422049\n",
      "--------------------------------\n",
      "(100,)\n",
      "MSE on test set is 0.6198923637965243\n",
      "--------------------------------\n",
      "(100,)\n",
      "MSE on test set is 0.6173367234489231\n",
      "--------------------------------\n"
     ]
    }
   ],
   "source": [
    "maxL_w = maxlikelihood(0.1, artificial_train_data, artificialR_train_data)\n",
    "mse(maxL_w, artificial_test_data, artificialR_test_data)\n",
    "maxL_w = maxlikelihood(0.2, artificial_train_data, artificialR_train_data)\n",
    "mse(maxL_w, artificial_test_data, artificialR_test_data)\n",
    "maxL_w = maxlikelihood(0.3, artificial_train_data, artificialR_train_data)\n",
    "mse(maxL_w, artificial_test_data, artificialR_test_data)\n",
    "maxL_w = maxlikelihood(0.4, artificial_train_data, artificialR_train_data)\n",
    "mse(maxL_w, artificial_test_data, artificialR_test_data)\n",
    "maxL_w = maxlikelihood(0.5, artificial_train_data, artificialR_train_data)\n",
    "mse(maxL_w, artificial_test_data, artificialR_test_data)\n",
    "maxL_w = maxlikelihood(0.6, artificial_train_data, artificialR_train_data)\n",
    "mse(maxL_w, artificial_test_data, artificialR_test_data)\n",
    "maxL_w = maxlikelihood(0.7, artificial_train_data, artificialR_train_data)\n",
    "mse(maxL_w, artificial_test_data, artificialR_test_data)\n",
    "maxL_w = maxlikelihood(0.8, artificial_train_data, artificialR_train_data)\n",
    "mse(maxL_w, artificial_test_data, artificialR_test_data)\n",
    "maxL_w = maxlikelihood(0.9, artificial_train_data, artificialR_train_data)\n",
    "mse(maxL_w, artificial_test_data, artificialR_test_data)\n",
    "maxL_w = maxlikelihood(1.0, artificial_train_data, artificialR_train_data)\n",
    "mse(maxL_w, artificial_test_data, artificialR_test_data)"
   ]
  },
  {
   "cell_type": "code",
   "execution_count": 224,
   "metadata": {},
   "outputs": [
    {
     "name": "stdout",
     "output_type": "stream",
     "text": [
      "(100,)\n",
      "MSE on test set is 7748.37962307881\n",
      "--------------------------------\n",
      "(100,)\n",
      "MSE on test set is 193070.52962084528\n",
      "--------------------------------\n",
      "(100,)\n",
      "MSE on test set is 13605.865223840348\n",
      "--------------------------------\n",
      "(100,)\n",
      "MSE on test set is 3.3447501625005955\n",
      "--------------------------------\n",
      "(100,)\n",
      "MSE on test set is 1.1173352915783692\n",
      "--------------------------------\n",
      "(100,)\n",
      "MSE on test set is 0.7724557564846328\n",
      "--------------------------------\n",
      "(100,)\n",
      "MSE on test set is 0.5964353667182205\n",
      "--------------------------------\n",
      "(100,)\n",
      "MSE on test set is 0.6120585236592089\n",
      "--------------------------------\n",
      "(100,)\n",
      "MSE on test set is 0.5264312354884497\n",
      "--------------------------------\n",
      "(100,)\n",
      "MSE on test set is 0.502799211091656\n",
      "--------------------------------\n"
     ]
    }
   ],
   "source": [
    "maxL_w = maxlikelihood(0.1, crime_train_data, crimeR_train_data)\n",
    "mse(maxL_w, crime_test_data, crimeR_test_data)\n",
    "maxL_w = maxlikelihood(0.2, crime_train_data, crimeR_train_data)\n",
    "mse(maxL_w, crime_test_data, crimeR_test_data)\n",
    "maxL_w = maxlikelihood(0.3, crime_train_data, crimeR_train_data)\n",
    "mse(maxL_w, crime_test_data, crimeR_test_data)\n",
    "maxL_w = maxlikelihood(0.4, crime_train_data, crimeR_train_data)\n",
    "mse(maxL_w, crime_test_data, crimeR_test_data)\n",
    "maxL_w = maxlikelihood(0.5, crime_train_data, crimeR_train_data)\n",
    "mse(maxL_w, crime_test_data, crimeR_test_data)\n",
    "maxL_w = maxlikelihood(0.6, crime_train_data, crimeR_train_data)\n",
    "mse(maxL_w, crime_test_data, crimeR_test_data)\n",
    "maxL_w = maxlikelihood(0.7, crime_train_data, crimeR_train_data)\n",
    "mse(maxL_w, crime_test_data, crimeR_test_data)\n",
    "maxL_w = maxlikelihood(0.8, crime_train_data, crimeR_train_data)\n",
    "mse(maxL_w, crime_test_data, crimeR_test_data)\n",
    "maxL_w = maxlikelihood(0.9, crime_train_data, crimeR_train_data)\n",
    "mse(maxL_w, crime_test_data, crimeR_test_data)\n",
    "maxL_w = maxlikelihood(1.0, crime_train_data, crimeR_train_data)\n",
    "mse(maxL_w, crime_test_data, crimeR_test_data)"
   ]
  },
  {
   "cell_type": "code",
   "execution_count": 225,
   "metadata": {},
   "outputs": [
    {
     "data": {
      "image/png": "[encoded data removed]",
      "text/plain": [
       "<Figure size 432x288 with 1 Axes>"
      ]
     },
     "metadata": {
      "needs_background": "light"
     },
     "output_type": "display_data"
    }
   ],
   "source": [
    "import matplotlib.pyplot as plt\n",
    "\n",
    "artificial_model_selection = [0.6083085922060267, 0.6083085922060112, 0.6083085922060267,\n",
    "                             0.6083085922060112,0.6083085922060112,0.6083085922060112,\n",
    "                             0.6083085922060267,0.6083085922060267,0.6083085922060267,\n",
    "                             0.6083085922060322]\n",
    "frac_list = [0.1, 0.2, 0.3, 0.4, 0.5, 0.6, 0.7, 0.8, 0.9, 1.0]\n",
    "\n",
    "maxlikelihood = [219.09627478398653, 1.0489853386182555,0.8294837270042104,\n",
    "                0.751892119834059,0.7099640365927068,0.6714748978108145,\n",
    "                0.6401553320837808,0.6223892700422049,0.6198923637965243,\n",
    "                0.6173367234489231]\n",
    "\n",
    "plt.ylabel('MSE Error')\n",
    "plt.xlabel('Fraction of Training size')\n",
    "plt.title('Artificial Dataset')\n",
    "plt.plot(frac_list, artificial_model_selection, color='b', label='Model Selection')\n",
    "plt.plot(frac_list, maxlikelihood, color='r', label='Max Likelihood')\n",
    "plt.legend(loc='best')\n",
    "plt.show()"
   ]
  },
  {
   "cell_type": "code",
   "execution_count": 226,
   "metadata": {},
   "outputs": [
    {
     "data": {
      "image/png": "[encoded data removed]",
      "text/plain": [
       "<Figure size 432x288 with 1 Axes>"
      ]
     },
     "metadata": {
      "needs_background": "light"
     },
     "output_type": "display_data"
    }
   ],
   "source": [
    "import matplotlib.pyplot as plt\n",
    "\n",
    "frac_list = [0.1, 0.2, 0.3, 0.4, 0.5, 0.6, 0.7, 0.8, 0.9, 1.0]\n",
    "\n",
    "maxlikelihood = [7748.37962307881, 193070.52962084528, 13605.865223840348,\n",
    "                3.3447501625005955,1.1173352915783692,0.7724557564846328,\n",
    "                0.5964353667182205,0.6120585236592089,0.5264312354884497,\n",
    "                0.502799211091656]\n",
    "\n",
    "crime_model_selection = [0.2775322106427774,0.2775322106427774,0.27753221064277733,\n",
    "                        0.27753221064277733,0.27753221064277733,0.27753221064277733,\n",
    "                        0.27753221064277744,0.2775322106427774,0.2775322106427774,\n",
    "                        0.27753221064277733]\n",
    "\n",
    "plt.ylabel('MSE Error')\n",
    "plt.xlabel('Fraction of Training size')\n",
    "plt.title('Crime Dataset')\n",
    "plt.plot(frac_list, crime_model_selection, color='b', label='Model Selection')\n",
    "plt.plot(frac_list, maxlikelihood, color='r', label='Max Likelihood')\n",
    "plt.legend(loc='best')\n",
    "plt.show()"
   ]
  },
  {
   "cell_type": "markdown",
   "metadata": {},
   "source": [
    "Model selection algorithm does a better job at finding the parameters as compared to the maximum likelihood.\n",
    "The test MSE in case of model selection is lower than maximum likelihood for both datasets, artificial and crime.\n",
    "The MSE decreases as we increase the fraction of training set size as more data is available."
   ]
  },
  {
   "cell_type": "markdown",
   "metadata": {},
   "source": [
    "Part (iii) with fixed lambda values of 1.0, 33.0 and 1000.0"
   ]
  },
  {
   "cell_type": "code",
   "execution_count": 227,
   "metadata": {},
   "outputs": [],
   "source": [
    "def maxlikelihood_with_regularization(frac, lambda_val, input_data, output_data):\n",
    "    \n",
    "    length = int(round(input_data.shape[0]*frac))\n",
    "    input_data = input_data[1:(length+1),:]\n",
    "    output_data = output_data[1:(length+1),]\n",
    "    \n",
    "    regularization_matrix = lambda_val * np.identity(100)\n",
    "    phiT_phi = np.matmul(input_data.T, input_data)\n",
    "    sum1 = regularization_matrix + phiT_phi\n",
    "    \n",
    "    inv_matrix = np.linalg.inv(sum1)\n",
    "    phiT_t = np.matmul(input_data.T, output_data)\n",
    "    maxL_w = np.matmul(inv_matrix, phiT_t)\n",
    "    print(maxL_w.shape)\n",
    "    return maxL_w"
   ]
  },
  {
   "cell_type": "markdown",
   "metadata": {},
   "source": [
    "For lambda = 1.0"
   ]
  },
  {
   "cell_type": "code",
   "execution_count": 228,
   "metadata": {},
   "outputs": [
    {
     "name": "stdout",
     "output_type": "stream",
     "text": [
      "(100,)\n",
      "MSE on test set is 1.2290474033452075\n",
      "--------------------------------\n",
      "(100,)\n",
      "MSE on test set is 0.8991862510319194\n",
      "--------------------------------\n",
      "(100,)\n",
      "MSE on test set is 0.7806496035368062\n",
      "--------------------------------\n",
      "(100,)\n",
      "MSE on test set is 0.7265053038879681\n",
      "--------------------------------\n",
      "(100,)\n",
      "MSE on test set is 0.698637068814467\n",
      "--------------------------------\n",
      "(100,)\n",
      "MSE on test set is 0.6644615108060217\n",
      "--------------------------------\n",
      "(100,)\n",
      "MSE on test set is 0.635930549664078\n",
      "--------------------------------\n",
      "(100,)\n",
      "MSE on test set is 0.6193283755080519\n",
      "--------------------------------\n",
      "(100,)\n",
      "MSE on test set is 0.6174127920644987\n",
      "--------------------------------\n",
      "(100,)\n",
      "MSE on test set is 0.6151646731512826\n",
      "--------------------------------\n"
     ]
    }
   ],
   "source": [
    "regularized_w = maxlikelihood_with_regularization(0.1, 1.0, artificial_train_data, artificialR_train_data)\n",
    "mse(regularized_w, artificial_test_data, artificialR_test_data)\n",
    "regularized_w = maxlikelihood_with_regularization(0.2, 1.0, artificial_train_data, artificialR_train_data)\n",
    "mse(regularized_w, artificial_test_data, artificialR_test_data)\n",
    "regularized_w = maxlikelihood_with_regularization(0.3, 1.0, artificial_train_data, artificialR_train_data)\n",
    "mse(regularized_w, artificial_test_data, artificialR_test_data)\n",
    "regularized_w = maxlikelihood_with_regularization(0.4, 1.0, artificial_train_data, artificialR_train_data)\n",
    "mse(regularized_w, artificial_test_data, artificialR_test_data)\n",
    "regularized_w = maxlikelihood_with_regularization(0.5, 1.0, artificial_train_data, artificialR_train_data)\n",
    "mse(regularized_w, artificial_test_data, artificialR_test_data)\n",
    "regularized_w = maxlikelihood_with_regularization(0.6, 1.0, artificial_train_data, artificialR_train_data)\n",
    "mse(regularized_w, artificial_test_data, artificialR_test_data)\n",
    "regularized_w = maxlikelihood_with_regularization(0.7, 1.0, artificial_train_data, artificialR_train_data)\n",
    "mse(regularized_w, artificial_test_data, artificialR_test_data)\n",
    "regularized_w = maxlikelihood_with_regularization(0.8, 1.0, artificial_train_data, artificialR_train_data)\n",
    "mse(regularized_w, artificial_test_data, artificialR_test_data)\n",
    "regularized_w = maxlikelihood_with_regularization(0.9, 1.0, artificial_train_data, artificialR_train_data)\n",
    "mse(regularized_w, artificial_test_data, artificialR_test_data)\n",
    "regularized_w = maxlikelihood_with_regularization(1.0, 1.0, artificial_train_data, artificialR_train_data)\n",
    "mse(regularized_w, artificial_test_data, artificialR_test_data)"
   ]
  },
  {
   "cell_type": "code",
   "execution_count": 229,
   "metadata": {},
   "outputs": [
    {
     "name": "stdout",
     "output_type": "stream",
     "text": [
      "(100,)\n",
      "MSE on test set is 1.021635369499104\n",
      "--------------------------------\n",
      "(100,)\n",
      "MSE on test set is 1.0601735486820354\n",
      "--------------------------------\n",
      "(100,)\n",
      "MSE on test set is 0.9267826770574392\n",
      "--------------------------------\n",
      "(100,)\n",
      "MSE on test set is 0.6977536041033683\n",
      "--------------------------------\n",
      "(100,)\n",
      "MSE on test set is 0.5590435592709978\n",
      "--------------------------------\n",
      "(100,)\n",
      "MSE on test set is 0.49873151358903733\n",
      "--------------------------------\n",
      "(100,)\n",
      "MSE on test set is 0.472753190172272\n",
      "--------------------------------\n",
      "(100,)\n",
      "MSE on test set is 0.506928181211111\n",
      "--------------------------------\n",
      "(100,)\n",
      "MSE on test set is 0.4795581322614084\n",
      "--------------------------------\n",
      "(100,)\n",
      "MSE on test set is 0.46202000148783373\n",
      "--------------------------------\n"
     ]
    }
   ],
   "source": [
    "regularized_w = maxlikelihood_with_regularization(0.1, 1.0, crime_train_data, crimeR_train_data)\n",
    "mse(regularized_w, crime_test_data, crimeR_test_data)\n",
    "regularized_w = maxlikelihood_with_regularization(0.2, 1.0, crime_train_data, crimeR_train_data)\n",
    "mse(regularized_w, crime_test_data, crimeR_test_data)\n",
    "regularized_w = maxlikelihood_with_regularization(0.3, 1.0, crime_train_data, crimeR_train_data)\n",
    "mse(regularized_w, crime_test_data, crimeR_test_data)\n",
    "regularized_w = maxlikelihood_with_regularization(0.4, 1.0, crime_train_data, crimeR_train_data)\n",
    "mse(regularized_w, crime_test_data, crimeR_test_data)\n",
    "regularized_w = maxlikelihood_with_regularization(0.5, 1.0, crime_train_data, crimeR_train_data)\n",
    "mse(regularized_w, crime_test_data, crimeR_test_data)\n",
    "regularized_w = maxlikelihood_with_regularization(0.6, 1.0, crime_train_data, crimeR_train_data)\n",
    "mse(regularized_w, crime_test_data, crimeR_test_data)\n",
    "regularized_w = maxlikelihood_with_regularization(0.7, 1.0, crime_train_data, crimeR_train_data)\n",
    "mse(regularized_w, crime_test_data, crimeR_test_data)\n",
    "regularized_w = maxlikelihood_with_regularization(0.8, 1.0, crime_train_data, crimeR_train_data)\n",
    "mse(regularized_w, crime_test_data, crimeR_test_data)\n",
    "regularized_w = maxlikelihood_with_regularization(0.9, 1.0, crime_train_data, crimeR_train_data)\n",
    "mse(regularized_w, crime_test_data, crimeR_test_data)\n",
    "regularized_w = maxlikelihood_with_regularization(1.0, 1.0, crime_train_data, crimeR_train_data)\n",
    "mse(regularized_w, crime_test_data, crimeR_test_data)"
   ]
  },
  {
   "cell_type": "markdown",
   "metadata": {},
   "source": [
    "For lambda = 33.0"
   ]
  },
  {
   "cell_type": "code",
   "execution_count": 230,
   "metadata": {},
   "outputs": [
    {
     "name": "stdout",
     "output_type": "stream",
     "text": [
      "(100,)\n",
      "MSE on test set is 0.7302693604767547\n",
      "--------------------------------\n",
      "(100,)\n",
      "MSE on test set is 0.6839366552300552\n",
      "--------------------------------\n",
      "(100,)\n",
      "MSE on test set is 0.6337375431791149\n",
      "--------------------------------\n",
      "(100,)\n",
      "MSE on test set is 0.6181233780712512\n",
      "--------------------------------\n",
      "(100,)\n",
      "MSE on test set is 0.6255783857080763\n",
      "--------------------------------\n",
      "(100,)\n",
      "MSE on test set is 0.6153643346511424\n",
      "--------------------------------\n",
      "(100,)\n",
      "MSE on test set is 0.6071139870276429\n",
      "--------------------------------\n",
      "(100,)\n",
      "MSE on test set is 0.6003922458802118\n",
      "--------------------------------\n",
      "(100,)\n",
      "MSE on test set is 0.5985134375081659\n",
      "--------------------------------\n",
      "(100,)\n",
      "MSE on test set is 0.5968944316616864\n",
      "--------------------------------\n"
     ]
    }
   ],
   "source": [
    "regularized_w = maxlikelihood_with_regularization(0.1, 33.0, artificial_train_data, artificialR_train_data)\n",
    "mse(regularized_w, artificial_test_data, artificialR_test_data)\n",
    "regularized_w = maxlikelihood_with_regularization(0.2, 33.0, artificial_train_data, artificialR_train_data)\n",
    "mse(regularized_w, artificial_test_data, artificialR_test_data)\n",
    "regularized_w = maxlikelihood_with_regularization(0.3, 33.0, artificial_train_data, artificialR_train_data)\n",
    "mse(regularized_w, artificial_test_data, artificialR_test_data)\n",
    "regularized_w = maxlikelihood_with_regularization(0.4, 33.0, artificial_train_data, artificialR_train_data)\n",
    "mse(regularized_w, artificial_test_data, artificialR_test_data)\n",
    "regularized_w = maxlikelihood_with_regularization(0.5, 33.0, artificial_train_data, artificialR_train_data)\n",
    "mse(regularized_w, artificial_test_data, artificialR_test_data)\n",
    "regularized_w = maxlikelihood_with_regularization(0.6, 33.0, artificial_train_data, artificialR_train_data)\n",
    "mse(regularized_w, artificial_test_data, artificialR_test_data)\n",
    "regularized_w = maxlikelihood_with_regularization(0.7, 33.0, artificial_train_data, artificialR_train_data)\n",
    "mse(regularized_w, artificial_test_data, artificialR_test_data)\n",
    "regularized_w = maxlikelihood_with_regularization(0.8, 33.0, artificial_train_data, artificialR_train_data)\n",
    "mse(regularized_w, artificial_test_data, artificialR_test_data)\n",
    "regularized_w = maxlikelihood_with_regularization(0.9, 33.0, artificial_train_data, artificialR_train_data)\n",
    "mse(regularized_w, artificial_test_data, artificialR_test_data)\n",
    "regularized_w = maxlikelihood_with_regularization(1.0, 33.0, artificial_train_data, artificialR_train_data)\n",
    "mse(regularized_w, artificial_test_data, artificialR_test_data)"
   ]
  },
  {
   "cell_type": "code",
   "execution_count": 231,
   "metadata": {},
   "outputs": [
    {
     "name": "stdout",
     "output_type": "stream",
     "text": [
      "(100,)\n",
      "MSE on test set is 0.4860036910906109\n",
      "--------------------------------\n",
      "(100,)\n",
      "MSE on test set is 0.4575386244737143\n",
      "--------------------------------\n",
      "(100,)\n",
      "MSE on test set is 0.4257517893863181\n",
      "--------------------------------\n",
      "(100,)\n",
      "MSE on test set is 0.39524288222657533\n",
      "--------------------------------\n",
      "(100,)\n",
      "MSE on test set is 0.39865845202315764\n",
      "--------------------------------\n",
      "(100,)\n",
      "MSE on test set is 0.4145733411134556\n",
      "--------------------------------\n",
      "(100,)\n",
      "MSE on test set is 0.39528393105322146\n",
      "--------------------------------\n",
      "(100,)\n",
      "MSE on test set is 0.4017476009247869\n",
      "--------------------------------\n",
      "(100,)\n",
      "MSE on test set is 0.3981470424226172\n",
      "--------------------------------\n",
      "(100,)\n",
      "MSE on test set is 0.39163954549015656\n",
      "--------------------------------\n"
     ]
    }
   ],
   "source": [
    "regularized_w = maxlikelihood_with_regularization(0.1, 33.0, crime_train_data, crimeR_train_data)\n",
    "mse(regularized_w, crime_test_data, crimeR_test_data)\n",
    "regularized_w = maxlikelihood_with_regularization(0.2, 33.0, crime_train_data, crimeR_train_data)\n",
    "mse(regularized_w, crime_test_data, crimeR_test_data)\n",
    "regularized_w = maxlikelihood_with_regularization(0.3, 33.0, crime_train_data, crimeR_train_data)\n",
    "mse(regularized_w, crime_test_data, crimeR_test_data)\n",
    "regularized_w = maxlikelihood_with_regularization(0.4, 33.0, crime_train_data, crimeR_train_data)\n",
    "mse(regularized_w, crime_test_data, crimeR_test_data)\n",
    "regularized_w = maxlikelihood_with_regularization(0.5, 33.0, crime_train_data, crimeR_train_data)\n",
    "mse(regularized_w, crime_test_data, crimeR_test_data)\n",
    "regularized_w = maxlikelihood_with_regularization(0.6, 33.0, crime_train_data, crimeR_train_data)\n",
    "mse(regularized_w, crime_test_data, crimeR_test_data)\n",
    "regularized_w = maxlikelihood_with_regularization(0.7, 33.0, crime_train_data, crimeR_train_data)\n",
    "mse(regularized_w, crime_test_data, crimeR_test_data)\n",
    "regularized_w = maxlikelihood_with_regularization(0.8, 33.0, crime_train_data, crimeR_train_data)\n",
    "mse(regularized_w, crime_test_data, crimeR_test_data)\n",
    "regularized_w = maxlikelihood_with_regularization(0.9, 33.0, crime_train_data, crimeR_train_data)\n",
    "mse(regularized_w, crime_test_data, crimeR_test_data)\n",
    "regularized_w = maxlikelihood_with_regularization(1.0, 33.0, crime_train_data, crimeR_train_data)\n",
    "mse(regularized_w, crime_test_data, crimeR_test_data)"
   ]
  },
  {
   "cell_type": "markdown",
   "metadata": {},
   "source": [
    "For lambda = 1000.0"
   ]
  },
  {
   "cell_type": "code",
   "execution_count": 232,
   "metadata": {},
   "outputs": [
    {
     "name": "stdout",
     "output_type": "stream",
     "text": [
      "(100,)\n",
      "MSE on test set is 14.14606386175939\n",
      "--------------------------------\n",
      "(100,)\n",
      "MSE on test set is 5.550127106783763\n",
      "--------------------------------\n",
      "(100,)\n",
      "MSE on test set is 3.0823004323050154\n",
      "--------------------------------\n",
      "(100,)\n",
      "MSE on test set is 2.1166016124310323\n",
      "--------------------------------\n",
      "(100,)\n",
      "MSE on test set is 1.6554487218055152\n",
      "--------------------------------\n",
      "(100,)\n",
      "MSE on test set is 1.4031800365166252\n",
      "--------------------------------\n",
      "(100,)\n",
      "MSE on test set is 1.230556736489588\n",
      "--------------------------------\n",
      "(100,)\n",
      "MSE on test set is 1.1288369058973633\n",
      "--------------------------------\n",
      "(100,)\n",
      "MSE on test set is 1.0383639645656513\n",
      "--------------------------------\n",
      "(100,)\n",
      "MSE on test set is 0.9772989785972215\n",
      "--------------------------------\n"
     ]
    }
   ],
   "source": [
    "regularized_w = maxlikelihood_with_regularization(0.1, 1000.0, artificial_train_data, artificialR_train_data)\n",
    "mse(regularized_w, artificial_test_data, artificialR_test_data)\n",
    "regularized_w = maxlikelihood_with_regularization(0.2, 1000.0, artificial_train_data, artificialR_train_data)\n",
    "mse(regularized_w, artificial_test_data, artificialR_test_data)\n",
    "regularized_w = maxlikelihood_with_regularization(0.3, 1000.0, artificial_train_data, artificialR_train_data)\n",
    "mse(regularized_w, artificial_test_data, artificialR_test_data)\n",
    "regularized_w = maxlikelihood_with_regularization(0.4, 1000.0, artificial_train_data, artificialR_train_data)\n",
    "mse(regularized_w, artificial_test_data, artificialR_test_data)\n",
    "regularized_w = maxlikelihood_with_regularization(0.5, 1000.0, artificial_train_data, artificialR_train_data)\n",
    "mse(regularized_w, artificial_test_data, artificialR_test_data)\n",
    "regularized_w = maxlikelihood_with_regularization(0.6, 1000.0, artificial_train_data, artificialR_train_data)\n",
    "mse(regularized_w, artificial_test_data, artificialR_test_data)\n",
    "regularized_w = maxlikelihood_with_regularization(0.7, 1000.0, artificial_train_data, artificialR_train_data)\n",
    "mse(regularized_w, artificial_test_data, artificialR_test_data)\n",
    "regularized_w = maxlikelihood_with_regularization(0.8, 1000.0, artificial_train_data, artificialR_train_data)\n",
    "mse(regularized_w, artificial_test_data, artificialR_test_data)\n",
    "regularized_w = maxlikelihood_with_regularization(0.9, 1000.0, artificial_train_data, artificialR_train_data)\n",
    "mse(regularized_w, artificial_test_data, artificialR_test_data)\n",
    "regularized_w = maxlikelihood_with_regularization(1.0, 1000.0, artificial_train_data, artificialR_train_data)\n",
    "mse(regularized_w, artificial_test_data, artificialR_test_data)"
   ]
  },
  {
   "cell_type": "code",
   "execution_count": 233,
   "metadata": {},
   "outputs": [
    {
     "name": "stdout",
     "output_type": "stream",
     "text": [
      "(100,)\n",
      "MSE on test set is 0.6673538814418749\n",
      "--------------------------------\n",
      "(100,)\n",
      "MSE on test set is 0.5822139446763883\n",
      "--------------------------------\n",
      "(100,)\n",
      "MSE on test set is 0.5632987670683617\n",
      "--------------------------------\n",
      "(100,)\n",
      "MSE on test set is 0.5262209353446086\n",
      "--------------------------------\n",
      "(100,)\n",
      "MSE on test set is 0.5129549640069732\n",
      "--------------------------------\n",
      "(100,)\n",
      "MSE on test set is 0.5056498837557861\n",
      "--------------------------------\n",
      "(100,)\n",
      "MSE on test set is 0.48763754538062454\n",
      "--------------------------------\n",
      "(100,)\n",
      "MSE on test set is 0.4775182200715409\n",
      "--------------------------------\n",
      "(100,)\n",
      "MSE on test set is 0.4708227252207024\n",
      "--------------------------------\n",
      "(100,)\n",
      "MSE on test set is 0.455427780216091\n",
      "--------------------------------\n"
     ]
    }
   ],
   "source": [
    "regularized_w = maxlikelihood_with_regularization(0.1, 1000.0, crime_train_data, crimeR_train_data)\n",
    "mse(regularized_w, crime_test_data, crimeR_test_data)\n",
    "regularized_w = maxlikelihood_with_regularization(0.2, 1000.0, crime_train_data, crimeR_train_data)\n",
    "mse(regularized_w, crime_test_data, crimeR_test_data)\n",
    "regularized_w = maxlikelihood_with_regularization(0.3, 1000.0, crime_train_data, crimeR_train_data)\n",
    "mse(regularized_w, crime_test_data, crimeR_test_data)\n",
    "regularized_w = maxlikelihood_with_regularization(0.4, 1000.0, crime_train_data, crimeR_train_data)\n",
    "mse(regularized_w, crime_test_data, crimeR_test_data)\n",
    "regularized_w = maxlikelihood_with_regularization(0.5, 1000.0, crime_train_data, crimeR_train_data)\n",
    "mse(regularized_w, crime_test_data, crimeR_test_data)\n",
    "regularized_w = maxlikelihood_with_regularization(0.6, 1000.0, crime_train_data, crimeR_train_data)\n",
    "mse(regularized_w, crime_test_data, crimeR_test_data)\n",
    "regularized_w = maxlikelihood_with_regularization(0.7, 1000.0, crime_train_data, crimeR_train_data)\n",
    "mse(regularized_w, crime_test_data, crimeR_test_data)\n",
    "regularized_w = maxlikelihood_with_regularization(0.8, 1000.0, crime_train_data, crimeR_train_data)\n",
    "mse(regularized_w, crime_test_data, crimeR_test_data)\n",
    "regularized_w = maxlikelihood_with_regularization(0.9, 1000.0, crime_train_data, crimeR_train_data)\n",
    "mse(regularized_w, crime_test_data, crimeR_test_data)\n",
    "regularized_w = maxlikelihood_with_regularization(1.0, 1000.0, crime_train_data, crimeR_train_data)\n",
    "mse(regularized_w, crime_test_data, crimeR_test_data)"
   ]
  },
  {
   "cell_type": "code",
   "execution_count": 234,
   "metadata": {},
   "outputs": [
    {
     "data": {
      "image/png": "[encoded data removed]",
      "text/plain": [
       "<Figure size 432x288 with 1 Axes>"
      ]
     },
     "metadata": {
      "needs_background": "light"
     },
     "output_type": "display_data"
    }
   ],
   "source": [
    "import matplotlib.pyplot as plt\n",
    "\n",
    "lambda_1_artificial = [1.2290474033452075,0.8991862510319194,0.7806496035368062,0.7265053038879681,\n",
    "                      0.698637068814467,0.6644615108060217,0.635930549664078,0.6193283755080519,\n",
    "                      0.6174127920644987,0.6151646731512826]\n",
    "\n",
    "lambda_33_artificial = [0.7302693604767547,0.6839366552300552,0.6337375431791149,0.6181233780712512,\n",
    "                       0.6255783857080763,0.6153643346511424,0.6071139870276429,0.6003922458802118,\n",
    "                       0.5985134375081659,0.5968944316616864]\n",
    "\n",
    "lambda_1000_artificial = [14.14606386175939,5.550127106783763,3.0823004323050154,2.1166016124310323,\n",
    "                         1.6554487218055152,1.4031800365166252,1.230556736489588,1.1288369058973633,\n",
    "                         1.0383639645656513,0.9772989785972215]\n",
    "\n",
    "frac_list = [0.1, 0.2, 0.3, 0.4, 0.5, 0.6, 0.7, 0.8, 0.9, 1.0]\n",
    "\n",
    "plt.ylabel('MSE Error')\n",
    "plt.xlabel('Fraction of Training size')\n",
    "plt.title('Artificial Dataset w/ diff lambda')\n",
    "plt.plot(frac_list, lambda_1_artificial, color='r', label='lambda=1')\n",
    "plt.plot(frac_list, lambda_33_artificial, color='g', label='lambda=33')\n",
    "plt.plot(frac_list, lambda_1000_artificial, color='b', label='lambda=1000')\n",
    "plt.legend(loc='best')\n",
    "plt.show()"
   ]
  },
  {
   "cell_type": "code",
   "execution_count": 235,
   "metadata": {},
   "outputs": [
    {
     "data": {
      "image/png": "[encoded data removed]",
      "text/plain": [
       "<Figure size 432x288 with 1 Axes>"
      ]
     },
     "metadata": {
      "needs_background": "light"
     },
     "output_type": "display_data"
    }
   ],
   "source": [
    "import matplotlib.pyplot as plt\n",
    "\n",
    "lambda_1_crime = [1.021635369499104,1.0601735486820354,0.9267826770574392,0.6977536041033683,\n",
    "                      0.5590435592709978,0.49873151358903733,0.472753190172272,0.506928181211111,\n",
    "                      0.4795581322614084,0.46202000148783373]\n",
    "\n",
    "lambda_33_crime = [0.4860036910906109,0.4575386244737143,0.4257517893863181,0.39524288222657533,\n",
    "                       0.39865845202315764,0.4145733411134556,0.39528393105322146,0.4017476009247869,\n",
    "                       0.3981470424226172,0.39163954549015656]\n",
    "\n",
    "lambda_1000_crime = [0.6673538814418749,0.5822139446763883,0.5632987670683617,0.5262209353446086,\n",
    "                         0.5129549640069732,0.5056498837557861,0.48763754538062454,0.4775182200715409,\n",
    "                         0.4708227252207024,0.455427780216091]\n",
    "\n",
    "frac_list = [0.1, 0.2, 0.3, 0.4, 0.5, 0.6, 0.7, 0.8, 0.9, 1.0]\n",
    "\n",
    "plt.ylabel('MSE Error')\n",
    "plt.xlabel('Fraction of Training size')\n",
    "plt.title('Crime Dataset w/ diff lambda')\n",
    "plt.plot(frac_list, lambda_1_crime, color='r', label='lambda=1')\n",
    "plt.plot(frac_list, lambda_33_crime, color='g', label='lambda=33')\n",
    "plt.plot(frac_list, lambda_1000_crime, color='b', label='lambda=1000')\n",
    "plt.legend(loc='best')\n",
    "plt.show()"
   ]
  },
  {
   "cell_type": "markdown",
   "metadata": {},
   "source": [
    "As can be seen from the two plots above,. a lambda value of 33.0 produces a low MSE for both artificial \n",
    "and crime datasets. For artificial dataset, the calculated value of lambda value is ~ 5.5 while for crime \n",
    "dataset the lambda value is ~ 130.95\n"
   ]
  },
  {
   "cell_type": "markdown",
   "metadata": {},
   "source": [
    "TASK 2"
   ]
  },
  {
   "cell_type": "code",
   "execution_count": 347,
   "metadata": {},
   "outputs": [
    {
     "name": "stdout",
     "output_type": "stream",
     "text": [
      "(300,)\n",
      "(300,)\n",
      "(300,)\n",
      "(300,)\n"
     ]
    }
   ],
   "source": [
    "f3_train_data = np.loadtxt(open(\"/Users/sahiltyagi/Downloads/pp2data/train-f3.csv\", \"rb\"), \n",
    "                                   delimiter=\",\")\n",
    "print(f3_train_data.shape)\n",
    "\n",
    "f3R_train_data = np.loadtxt(open(\"/Users/sahiltyagi/Downloads/pp2data/trainR-f3.csv\", \"rb\"), \n",
    "                                   delimiter=\",\")\n",
    "print(f3R_train_data.shape)\n",
    "\n",
    "f5_train_data = np.loadtxt(open(\"/Users/sahiltyagi/Downloads/pp2data/train-f5.csv\", \"rb\"), \n",
    "                                   delimiter=\",\")\n",
    "print(f5_train_data.shape)\n",
    "\n",
    "f5R_train_data = np.loadtxt(open(\"/Users/sahiltyagi/Downloads/pp2data/trainR-f5.csv\", \"rb\"), \n",
    "                                   delimiter=\",\")\n",
    "print(f5R_train_data.shape)"
   ]
  },
  {
   "cell_type": "code",
   "execution_count": 368,
   "metadata": {},
   "outputs": [
    {
     "name": "stdout",
     "output_type": "stream",
     "text": [
      "(500,)\n",
      "(500,)\n",
      "(500,)\n",
      "(500,)\n"
     ]
    }
   ],
   "source": [
    "f3_test_data = np.loadtxt(open(\"/Users/sahiltyagi/Downloads/pp2data/test-f3.csv\", \"rb\"), \n",
    "                                   delimiter=\",\")\n",
    "print(f3_test_data.shape)\n",
    "\n",
    "f3R_test_data = np.loadtxt(open(\"/Users/sahiltyagi/Downloads/pp2data/testR-f3.csv\", \"rb\"), \n",
    "                                   delimiter=\",\")\n",
    "print(f3R_test_data.shape)\n",
    "\n",
    "f5_test_data = np.loadtxt(open(\"/Users/sahiltyagi/Downloads/pp2data/test-f5.csv\", \"rb\"), \n",
    "                                   delimiter=\",\")\n",
    "print(f5_test_data.shape)\n",
    "\n",
    "f5R_test_data = np.loadtxt(open(\"/Users/sahiltyagi/Downloads/pp2data/testR-f5.csv\", \"rb\"), \n",
    "                                   delimiter=\",\")\n",
    "print(f5R_test_data.shape)"
   ]
  },
  {
   "cell_type": "code",
   "execution_count": 369,
   "metadata": {},
   "outputs": [],
   "source": [
    "import math\n",
    "\n",
    "def degreelist(degree, x):\n",
    "    \n",
    "    degree_list = []\n",
    "    degree_list.append(1)\n",
    "    for d in range(1,degree + 1):\n",
    "        degree_list.append(math.pow(x, d))\n",
    "        \n",
    "    return degree_list"
   ]
  },
  {
   "cell_type": "code",
   "execution_count": 370,
   "metadata": {},
   "outputs": [],
   "source": [
    "def generate_training_data(degree, data):\n",
    "    \n",
    "    converted_data =  np.array([np.array(degreelist(degree, ix)) for ix in data])\n",
    "        \n",
    "    print(converted_data.shape)\n",
    "    return converted_data"
   ]
  },
  {
   "cell_type": "code",
   "execution_count": 371,
   "metadata": {},
   "outputs": [
    {
     "ename": "TypeError",
     "evalue": "only size-1 arrays can be converted to Python scalars",
     "output_type": "error",
     "traceback": [
      "\u001b[0;31m---------------------------------------------------------------------------\u001b[0m",
      "\u001b[0;31mTypeError\u001b[0m                                 Traceback (most recent call last)",
      "\u001b[0;32m<ipython-input-371-c3156ea3b88b>\u001b[0m in \u001b[0;36m<module>\u001b[0;34m()\u001b[0m\n\u001b[0;32m----> 1\u001b[0;31m \u001b[0mf3_train_data\u001b[0m \u001b[0;34m=\u001b[0m \u001b[0mgenerate_training_data\u001b[0m\u001b[0;34m(\u001b[0m\u001b[0;36m3\u001b[0m\u001b[0;34m,\u001b[0m \u001b[0mf3_train_data\u001b[0m\u001b[0;34m)\u001b[0m\u001b[0;34m\u001b[0m\u001b[0m\n\u001b[0m\u001b[1;32m      2\u001b[0m \u001b[0;34m\u001b[0m\u001b[0m\n\u001b[1;32m      3\u001b[0m \u001b[0mf5_train_data\u001b[0m \u001b[0;34m=\u001b[0m \u001b[0mgenerate_training_data\u001b[0m\u001b[0;34m(\u001b[0m\u001b[0;36m5\u001b[0m\u001b[0;34m,\u001b[0m \u001b[0mf5_train_data\u001b[0m\u001b[0;34m)\u001b[0m\u001b[0;34m\u001b[0m\u001b[0m\n",
      "\u001b[0;32m<ipython-input-370-7cded63ec4ab>\u001b[0m in \u001b[0;36mgenerate_training_data\u001b[0;34m(degree, data)\u001b[0m\n\u001b[1;32m      1\u001b[0m \u001b[0;32mdef\u001b[0m \u001b[0mgenerate_training_data\u001b[0m\u001b[0;34m(\u001b[0m\u001b[0mdegree\u001b[0m\u001b[0;34m,\u001b[0m \u001b[0mdata\u001b[0m\u001b[0;34m)\u001b[0m\u001b[0;34m:\u001b[0m\u001b[0;34m\u001b[0m\u001b[0m\n\u001b[1;32m      2\u001b[0m \u001b[0;34m\u001b[0m\u001b[0m\n\u001b[0;32m----> 3\u001b[0;31m     \u001b[0mconverted_data\u001b[0m \u001b[0;34m=\u001b[0m  \u001b[0mnp\u001b[0m\u001b[0;34m.\u001b[0m\u001b[0marray\u001b[0m\u001b[0;34m(\u001b[0m\u001b[0;34m[\u001b[0m\u001b[0mnp\u001b[0m\u001b[0;34m.\u001b[0m\u001b[0marray\u001b[0m\u001b[0;34m(\u001b[0m\u001b[0mdegreelist\u001b[0m\u001b[0;34m(\u001b[0m\u001b[0mdegree\u001b[0m\u001b[0;34m,\u001b[0m \u001b[0mix\u001b[0m\u001b[0;34m)\u001b[0m\u001b[0;34m)\u001b[0m \u001b[0;32mfor\u001b[0m \u001b[0mix\u001b[0m \u001b[0;32min\u001b[0m \u001b[0mdata\u001b[0m\u001b[0;34m]\u001b[0m\u001b[0;34m)\u001b[0m\u001b[0;34m\u001b[0m\u001b[0m\n\u001b[0m\u001b[1;32m      4\u001b[0m \u001b[0;34m\u001b[0m\u001b[0m\n\u001b[1;32m      5\u001b[0m     \u001b[0;32mprint\u001b[0m\u001b[0;34m(\u001b[0m\u001b[0mconverted_data\u001b[0m\u001b[0;34m.\u001b[0m\u001b[0mshape\u001b[0m\u001b[0;34m)\u001b[0m\u001b[0;34m\u001b[0m\u001b[0m\n",
      "\u001b[0;32m<ipython-input-369-faa74af7cd59>\u001b[0m in \u001b[0;36mdegreelist\u001b[0;34m(degree, x)\u001b[0m\n\u001b[1;32m      6\u001b[0m     \u001b[0mdegree_list\u001b[0m\u001b[0;34m.\u001b[0m\u001b[0mappend\u001b[0m\u001b[0;34m(\u001b[0m\u001b[0;36m1\u001b[0m\u001b[0;34m)\u001b[0m\u001b[0;34m\u001b[0m\u001b[0m\n\u001b[1;32m      7\u001b[0m     \u001b[0;32mfor\u001b[0m \u001b[0md\u001b[0m \u001b[0;32min\u001b[0m \u001b[0mrange\u001b[0m\u001b[0;34m(\u001b[0m\u001b[0;36m1\u001b[0m\u001b[0;34m,\u001b[0m\u001b[0mdegree\u001b[0m \u001b[0;34m+\u001b[0m \u001b[0;36m1\u001b[0m\u001b[0;34m)\u001b[0m\u001b[0;34m:\u001b[0m\u001b[0;34m\u001b[0m\u001b[0m\n\u001b[0;32m----> 8\u001b[0;31m         \u001b[0mdegree_list\u001b[0m\u001b[0;34m.\u001b[0m\u001b[0mappend\u001b[0m\u001b[0;34m(\u001b[0m\u001b[0mmath\u001b[0m\u001b[0;34m.\u001b[0m\u001b[0mpow\u001b[0m\u001b[0;34m(\u001b[0m\u001b[0mx\u001b[0m\u001b[0;34m,\u001b[0m \u001b[0md\u001b[0m\u001b[0;34m)\u001b[0m\u001b[0;34m)\u001b[0m\u001b[0;34m\u001b[0m\u001b[0m\n\u001b[0m\u001b[1;32m      9\u001b[0m \u001b[0;34m\u001b[0m\u001b[0m\n\u001b[1;32m     10\u001b[0m     \u001b[0;32mreturn\u001b[0m \u001b[0mdegree_list\u001b[0m\u001b[0;34m\u001b[0m\u001b[0m\n",
      "\u001b[0;31mTypeError\u001b[0m: only size-1 arrays can be converted to Python scalars"
     ]
    }
   ],
   "source": [
    "f3_train_data = generate_training_data(3, f3_train_data)\n",
    "\n",
    "f5_train_data = generate_training_data(5, f5_train_data)"
   ]
  },
  {
   "cell_type": "code",
   "execution_count": 372,
   "metadata": {},
   "outputs": [
    {
     "name": "stdout",
     "output_type": "stream",
     "text": [
      "(500, 4)\n",
      "(500, 6)\n"
     ]
    }
   ],
   "source": [
    "f3_test_data = generate_training_data(3, f3_test_data)\n",
    "\n",
    "f5_test_data = generate_training_data(5, f5_test_data)"
   ]
  },
  {
   "cell_type": "code",
   "execution_count": 373,
   "metadata": {},
   "outputs": [],
   "source": [
    "def model_selection_algo_task2(frac, iterations, input_data, output_data):\n",
    "    \n",
    "    alpha=random.randint(1,10)\n",
    "    beta=random.randint(1,10)\n",
    "    print('fraction of training data used ' + str(frac))\n",
    "    print('starting alpha ' + str(alpha))\n",
    "    print('starting beta ' + str(beta))\n",
    "    \n",
    "    ctr = 0\n",
    "    while ctr < iterations:\n",
    "        \n",
    "        eigen_vals = np.linalg.eigvals(np.multiply(beta, np.matmul(input_data.T, input_data)))\n",
    "        #print(eigen_vals.shape)\n",
    "        gamma = np.sum(np.divide(eigen_vals, eigen_vals + alpha))\n",
    "        \n",
    "        beta_phiT_t = beta * np.matmul(input_data.T, output_data)\n",
    "        beta_phiT_phi = np.multiply(beta, np.matmul(input_data.T, input_data))\n",
    "        \n",
    "        alpha_I = alpha * np.identity(input_data.shape[1])\n",
    "        S_N_inv = alpha_I + beta_phiT_phi\n",
    "        S_n = np.linalg.inv(S_N_inv)\n",
    "        #print(S_n.shape)\n",
    "        m_N = np.matmul(S_n, beta_phiT_t)\n",
    "        #print(m_N.shape)\n",
    "        alpha = gamma/np.matmul(m_N.T, m_N)\n",
    "        \n",
    "        one_over_beta = np.sum(np.square(output_data \n",
    "                        - np.matmul(input_data, m_N)))/(input_data.shape[0] - gamma)\n",
    "        beta = 1/one_over_beta\n",
    "        \n",
    "        ctr = ctr + 1\n",
    "#         print('alpha is ' + str(alpha))\n",
    "#         print('beta is ' + str(beta))\n",
    "#         print('gamma is ' + str(gamma))\n",
    "#         print('----------- finished iteration ----------- ' + str(ctr))\n",
    "\n",
    "    lambda_val = float(alpha)/float(beta)\n",
    "    print('alpha is ' + str(alpha))\n",
    "    print('beta is ' + str(beta))\n",
    "    print('gamma is ' + str(gamma))\n",
    "    print('lambda is ' + str(lambda_val))\n",
    "    return alpha, beta, m_N"
   ]
  },
  {
   "cell_type": "code",
   "execution_count": 374,
   "metadata": {},
   "outputs": [],
   "source": [
    "import math\n",
    "\n",
    "def log_evidence(alpha, beta, M, input_data, m_N):\n",
    "    \n",
    "    A_det = np.linalg.det(alpha*np.identity(input_data.shape[1]) + beta * np.matmul(input_data.T, input_data))\n",
    "    \n",
    "    log_evidence = (M * math.log(alpha))/2 + (input_data.shape[0] * math.log(beta))/2 - np.mean(m_N) \n",
    "    - math.log(A_det)/2 -(input_data.shape[0] * math.log(math.pi))/2\n",
    "    \n",
    "    print('log evidence is ' + str(log_evidence))"
   ]
  },
  {
   "cell_type": "code",
   "execution_count": 375,
   "metadata": {},
   "outputs": [
    {
     "name": "stdout",
     "output_type": "stream",
     "text": [
      "fraction of training data used 1.0\n",
      "starting alpha 10\n",
      "starting beta 4\n",
      "alpha is 0.03861725072656692\n",
      "beta is 2.352090298642966e-07\n",
      "gamma is 3.5990977895202025\n",
      "lambda is 164182.687837\n",
      "log evidence is -2292.1749495897593\n",
      "MSE on test set is 54265.21239617393\n",
      "--------------------------------\n",
      "fraction of training data used 1.0\n",
      "starting alpha 1\n",
      "starting beta 4\n",
      "alpha is 0.03861725090059268\n",
      "beta is 2.3520902985142547e-07\n",
      "gamma is 3.5990978056915406\n",
      "lambda is 164182.688585\n",
      "log evidence is -2293.8019776873066\n",
      "MSE on test set is 54265.21239660112\n",
      "--------------------------------\n",
      "fraction of training data used 1.0\n",
      "starting alpha 8\n",
      "starting beta 4\n",
      "alpha is 0.03861725075192533\n",
      "beta is 2.352090298624216e-07\n",
      "gamma is 3.599097791619316\n",
      "lambda is 164182.687946\n",
      "log evidence is -2295.4290057818234\n",
      "MSE on test set is 54265.2123933514\n",
      "--------------------------------\n",
      "fraction of training data used 1.0\n",
      "starting alpha 1\n",
      "starting beta 7\n",
      "alpha is 0.03861725082131101\n",
      "beta is 2.3520902985728826e-07\n",
      "gamma is 3.5990977984741246\n",
      "lambda is 164182.688244\n",
      "log evidence is -2297.056033876297\n",
      "MSE on test set is 54265.212395958704\n",
      "--------------------------------\n",
      "fraction of training data used 1.0\n",
      "starting alpha 2\n",
      "starting beta 6\n",
      "alpha is 0.0386172508316793\n",
      "beta is 2.352090298565234e-07\n",
      "gamma is 3.599097799102773\n",
      "lambda is 164182.688289\n",
      "log evidence is -2298.6830619711372\n",
      "MSE on test set is 54265.212395472976\n",
      "--------------------------------\n",
      "fraction of training data used 1.0\n",
      "starting alpha 8\n",
      "starting beta 3\n",
      "alpha is 0.03861725092786627\n",
      "beta is 2.3520902984941028e-07\n",
      "gamma is 3.599097808136802\n",
      "lambda is 164182.688703\n",
      "log evidence is -2300.3100900618133\n",
      "MSE on test set is 54265.21239691152\n",
      "--------------------------------\n",
      "fraction of training data used 1.0\n",
      "starting alpha 3\n",
      "starting beta 6\n",
      "alpha is 0.03861725081191492\n",
      "beta is 2.3520902985798476e-07\n",
      "gamma is 3.599097797473045\n",
      "lambda is 164182.688204\n",
      "log evidence is -2301.9371181615456\n",
      "MSE on test set is 54265.21239417521\n",
      "--------------------------------\n",
      "fraction of training data used 1.0\n",
      "starting alpha 8\n",
      "starting beta 5\n",
      "alpha is 0.03861725083190295\n",
      "beta is 2.352090298565047e-07\n",
      "gamma is 3.599097798678706\n",
      "lambda is 164182.68829\n",
      "log evidence is -2303.564146255837\n",
      "MSE on test set is 54265.212394383125\n",
      "--------------------------------\n",
      "fraction of training data used 1.0\n",
      "starting alpha 7\n",
      "starting beta 7\n",
      "alpha is 0.038617250827859745\n",
      "beta is 2.352090298568056e-07\n",
      "gamma is 3.599097798490078\n",
      "lambda is 164182.688273\n",
      "log evidence is -2305.1911743508826\n",
      "MSE on test set is 54265.21239435771\n",
      "--------------------------------\n",
      "fraction of training data used 1.0\n",
      "starting alpha 5\n",
      "starting beta 7\n",
      "alpha is 0.03861725075287147\n",
      "beta is 2.3520902986235199e-07\n",
      "gamma is 3.5990977919256486\n",
      "lambda is 164182.68795\n",
      "log evidence is -2306.8182024525036\n",
      "MSE on test set is 54265.21239514622\n",
      "--------------------------------\n"
     ]
    }
   ],
   "source": [
    "degrees = [1,2,3,4,5,6,7,8,9,10]\n",
    "for d in degrees:\n",
    "    \n",
    "    alpha, beta, m_N = model_selection_algo_task2(1.0, 100, f5_train_data, f5R_train_data)\n",
    "    log_evidence(alpha, beta, d+1, f5_train_data, m_N)\n",
    "    mse(m_N, f5_test_data, f5R_test_data)"
   ]
  },
  {
   "cell_type": "code",
   "execution_count": 382,
   "metadata": {},
   "outputs": [],
   "source": [
    "def maxlikelihood_task2(input_data, output_data):\n",
    "    \n",
    "    phiT_phi_inv = np.linalg.inv(np.matmul(input_data.T, input_data))\n",
    "    phiT_t = np.matmul(input_data.T, output_data)\n",
    "    maxL_w = np.matmul(phiT_phi_inv, phiT_t)\n",
    "    print(maxL_w.shape)\n",
    "    return maxL_w"
   ]
  },
  {
   "cell_type": "code",
   "execution_count": 384,
   "metadata": {},
   "outputs": [
    {
     "name": "stdout",
     "output_type": "stream",
     "text": [
      "polynomial degree is 1\n",
      "(6,)\n",
      "MSE on test set is 61375.34506062618\n",
      "--------------------------------\n",
      "polynomial degree is 2\n",
      "(6,)\n",
      "MSE on test set is 61375.34506062618\n",
      "--------------------------------\n",
      "polynomial degree is 3\n",
      "(6,)\n",
      "MSE on test set is 61375.34506062618\n",
      "--------------------------------\n",
      "polynomial degree is 4\n",
      "(6,)\n",
      "MSE on test set is 61375.34506062618\n",
      "--------------------------------\n",
      "polynomial degree is 5\n",
      "(6,)\n",
      "MSE on test set is 61375.34506062618\n",
      "--------------------------------\n",
      "polynomial degree is 6\n",
      "(6,)\n",
      "MSE on test set is 61375.34506062618\n",
      "--------------------------------\n",
      "polynomial degree is 7\n",
      "(6,)\n",
      "MSE on test set is 61375.34506062618\n",
      "--------------------------------\n",
      "polynomial degree is 8\n",
      "(6,)\n",
      "MSE on test set is 61375.34506062618\n",
      "--------------------------------\n",
      "polynomial degree is 9\n",
      "(6,)\n",
      "MSE on test set is 61375.34506062618\n",
      "--------------------------------\n",
      "polynomial degree is 10\n",
      "(6,)\n",
      "MSE on test set is 61375.34506062618\n",
      "--------------------------------\n"
     ]
    }
   ],
   "source": [
    "degrees = [1,2,3,4,5,6,7,8,9,10]\n",
    "for d in degrees:\n",
    "    print('polynomial degree is ' + str(d))\n",
    "    weight_vector = maxlikelihood_task2(f5_train_data, f5R_train_data)\n",
    "    mse(weight_vector, f5_test_data, f5R_test_data)"
   ]
  },
  {
   "cell_type": "code",
   "execution_count": 377,
   "metadata": {},
   "outputs": [
    {
     "name": "stdout",
     "output_type": "stream",
     "text": [
      "polynomial degree is 1\n",
      "fraction of training data used 1.0\n",
      "starting alpha 5\n",
      "starting beta 8\n",
      "alpha is 0.009990132011889006\n",
      "beta is 2.450953376955573e-07\n",
      "gamma is 2.0697211312579964\n",
      "lambda is 40760.1878755\n",
      "log evidence is -2290.487656572904\n",
      "MSE on test set is 67744.90607087497\n",
      "--------------------------------\n",
      "polynomial degree is 2\n",
      "fraction of training data used 1.0\n",
      "starting alpha 5\n",
      "starting beta 9\n",
      "alpha is 0.009990132011889006\n",
      "beta is 2.450953376955573e-07\n",
      "gamma is 2.0697211312579964\n",
      "lambda is 40760.1878755\n",
      "log evidence is -2292.790735308907\n",
      "MSE on test set is 67744.90607087497\n",
      "--------------------------------\n",
      "polynomial degree is 3\n",
      "fraction of training data used 1.0\n",
      "starting alpha 4\n",
      "starting beta 5\n",
      "alpha is 0.009990132011890989\n",
      "beta is 2.450953376955569e-07\n",
      "gamma is 2.069721131258332\n",
      "lambda is 40760.1878755\n",
      "log evidence is -2295.0938140449093\n",
      "MSE on test set is 67744.90607087524\n",
      "--------------------------------\n",
      "polynomial degree is 4\n",
      "fraction of training data used 1.0\n",
      "starting alpha 3\n",
      "starting beta 5\n",
      "alpha is 0.00999013201189075\n",
      "beta is 2.45095337695557e-07\n",
      "gamma is 2.0697211312583303\n",
      "lambda is 40760.1878755\n",
      "log evidence is -2297.3968927809124\n",
      "MSE on test set is 67744.90607087433\n",
      "--------------------------------\n",
      "polynomial degree is 5\n",
      "fraction of training data used 1.0\n",
      "starting alpha 10\n",
      "starting beta 10\n",
      "alpha is 0.00999013201189075\n",
      "beta is 2.45095337695557e-07\n",
      "gamma is 2.0697211312583303\n",
      "lambda is 40760.1878755\n",
      "log evidence is -2299.699971516915\n",
      "MSE on test set is 67744.90607087433\n",
      "--------------------------------\n",
      "polynomial degree is 6\n",
      "fraction of training data used 1.0\n",
      "starting alpha 9\n",
      "starting beta 3\n",
      "alpha is 0.009990132011892002\n",
      "beta is 2.450953376955568e-07\n",
      "gamma is 2.069721131258386\n",
      "lambda is 40760.1878755\n",
      "log evidence is -2302.003050252917\n",
      "MSE on test set is 67744.9060708752\n",
      "--------------------------------\n",
      "polynomial degree is 7\n",
      "fraction of training data used 1.0\n",
      "starting alpha 10\n",
      "starting beta 2\n",
      "alpha is 0.009990132011891141\n",
      "beta is 2.4509533769555695e-07\n",
      "gamma is 2.0697211312582953\n",
      "lambda is 40760.1878755\n",
      "log evidence is -2304.30612898892\n",
      "MSE on test set is 67744.90607087387\n",
      "--------------------------------\n",
      "polynomial degree is 8\n",
      "fraction of training data used 1.0\n",
      "starting alpha 1\n",
      "starting beta 9\n",
      "alpha is 0.009990132011888949\n",
      "beta is 2.4509533769555727e-07\n",
      "gamma is 2.0697211312577863\n",
      "lambda is 40760.1878755\n",
      "log evidence is -2306.6092077249236\n",
      "MSE on test set is 67744.90607087454\n",
      "--------------------------------\n",
      "polynomial degree is 9\n",
      "fraction of training data used 1.0\n",
      "starting alpha 1\n",
      "starting beta 10\n",
      "alpha is 0.009990132011891098\n",
      "beta is 2.4509533769555695e-07\n",
      "gamma is 2.069721131258297\n",
      "lambda is 40760.1878755\n",
      "log evidence is -2308.9122864609253\n",
      "MSE on test set is 67744.90607087356\n",
      "--------------------------------\n",
      "polynomial degree is 10\n",
      "fraction of training data used 1.0\n",
      "starting alpha 4\n",
      "starting beta 1\n",
      "alpha is 0.009990132011891098\n",
      "beta is 2.4509533769555695e-07\n",
      "gamma is 2.069721131258297\n",
      "lambda is 40760.1878755\n",
      "log evidence is -2311.2153651969284\n",
      "MSE on test set is 67744.90607087356\n",
      "--------------------------------\n"
     ]
    }
   ],
   "source": [
    "degrees = [1,2,3,4,5,6,7,8,9,10]\n",
    "for d in degrees:\n",
    "    print('polynomial degree is ' + str(d))\n",
    "    alpha, beta, m_N  = model_selection_algo_task2(1.0, 100, f3_train_data, f3R_train_data)\n",
    "    log_evidence(alpha, beta, d+1, f5_train_data, m_N)\n",
    "    mse(m_N, f3_test_data, f3R_test_data)"
   ]
  },
  {
   "cell_type": "code",
   "execution_count": 385,
   "metadata": {},
   "outputs": [
    {
     "name": "stdout",
     "output_type": "stream",
     "text": [
      "polynomial degree is 1\n",
      "(4,)\n",
      "MSE on test set is 148429.38836498046\n",
      "--------------------------------\n",
      "polynomial degree is 2\n",
      "(4,)\n",
      "MSE on test set is 148429.38836498046\n",
      "--------------------------------\n",
      "polynomial degree is 3\n",
      "(4,)\n",
      "MSE on test set is 148429.38836498046\n",
      "--------------------------------\n",
      "polynomial degree is 4\n",
      "(4,)\n",
      "MSE on test set is 148429.38836498046\n",
      "--------------------------------\n",
      "polynomial degree is 5\n",
      "(4,)\n",
      "MSE on test set is 148429.38836498046\n",
      "--------------------------------\n",
      "polynomial degree is 6\n",
      "(4,)\n",
      "MSE on test set is 148429.38836498046\n",
      "--------------------------------\n",
      "polynomial degree is 7\n",
      "(4,)\n",
      "MSE on test set is 148429.38836498046\n",
      "--------------------------------\n",
      "polynomial degree is 8\n",
      "(4,)\n",
      "MSE on test set is 148429.38836498046\n",
      "--------------------------------\n",
      "polynomial degree is 9\n",
      "(4,)\n",
      "MSE on test set is 148429.38836498046\n",
      "--------------------------------\n",
      "polynomial degree is 10\n",
      "(4,)\n",
      "MSE on test set is 148429.38836498046\n",
      "--------------------------------\n"
     ]
    }
   ],
   "source": [
    "degrees = [1,2,3,4,5,6,7,8,9,10]\n",
    "for d in degrees:\n",
    "    print('polynomial degree is ' + str(d))\n",
    "    weight_vector = maxlikelihood_task2(f3_train_data, f3R_train_data)\n",
    "    mse(weight_vector, f3_test_data, f3R_test_data)"
   ]
  },
  {
   "cell_type": "code",
   "execution_count": 378,
   "metadata": {},
   "outputs": [
    {
     "data": {
      "image/png": "[encoded data removed]",
      "text/plain": [
       "<Figure size 432x288 with 1 Axes>"
      ]
     },
     "metadata": {
      "needs_background": "light"
     },
     "output_type": "display_data"
    }
   ],
   "source": [
    "import matplotlib.pyplot as plt\n",
    "\n",
    "degree_list = [1,2,3,4,5,6,7,8,9,10]\n",
    "\n",
    "f5_logevidence = [-2292.17494959177,-2293.80197,-2295.429005,-2297.0560338,-2298.6830619,-2300.310090064,\n",
    "                 -2301.937118159,-2303.56414625,-2305.19117435,-2306.818202]\n",
    "\n",
    "\n",
    "f3_logevidence = [-2290.4876565,-2292.79073530,-2295.0938140,-2297.396892780,-2299.6999715169,-2302.0030502,\n",
    "                 -2304.3061289,-2306.60920772,-2308.9122864,-2311.21536519]\n",
    "\n",
    "plt.ylabel('Log Evidence')\n",
    "plt.xlabel('Polynomial degree')\n",
    "plt.title('Log evidence')\n",
    "plt.plot(degree_list, f3_logevidence, color='r', label='f3 dataset')\n",
    "plt.plot(degree_list, f5_logevidence, color='b', label='f5 dataset')\n",
    "plt.legend(loc='best')\n",
    "plt.show()"
   ]
  },
  {
   "cell_type": "code",
   "execution_count": 386,
   "metadata": {},
   "outputs": [
    {
     "data": {
      "image/png": "[encoded data removed]",
      "text/plain": [
       "<Figure size 432x288 with 1 Axes>"
      ]
     },
     "metadata": {
      "needs_background": "light"
     },
     "output_type": "display_data"
    }
   ],
   "source": [
    "import matplotlib.pyplot as plt\n",
    "\n",
    "degree_list = [1,2,3,4,5,6,7,8,9,10]\n",
    "\n",
    "f3_mse = [67744.90607087356,67744.9060708752,67744.90607087433,67744.90607087356,\n",
    "         67744.90607087356,67744.9060708752,67744.90607087497,67744.90607087387,\n",
    "         67744.90607087497,67744.90607087428]\n",
    "\n",
    "f3_non_regularized = [148429.38836498046,148429.38836498046,148429.38836498046,148429.38836498046,\n",
    "                     148429.38836498046,148429.38836498046,148429.38836498046,148429.38836498046,\n",
    "                     148429.38836498046,148429.38836498046]\n",
    "\n",
    "plt.ylabel('MSE')\n",
    "plt.xlabel('Polynomial degree')\n",
    "plt.title('F3 dataset')\n",
    "plt.plot(degree_list, f3_mse, color='r', label='Model Selection')\n",
    "plt.plot(degree_list, f3_non_regularized, color='b', label='Unregularized')\n",
    "plt.legend(loc='best')\n",
    "plt.show()"
   ]
  },
  {
   "cell_type": "code",
   "execution_count": 387,
   "metadata": {},
   "outputs": [
    {
     "data": {
      "image/png": "[encoded data removed]",
      "text/plain": [
       "<Figure size 432x288 with 1 Axes>"
      ]
     },
     "metadata": {
      "needs_background": "light"
     },
     "output_type": "display_data"
    }
   ],
   "source": [
    "import matplotlib.pyplot as plt\n",
    "\n",
    "f5_mse = [54265.21239631191,54265.21239548846,54265.21239334888,54265.21239631642,\n",
    "         54265.21239470695,54265.21239458315,54265.212391384106,54265.21239458315,\n",
    "         54265.212395166396,54265.212393832546]\n",
    "\n",
    "f5_non_regularized = [61375.34506062618,61375.34506062618,61375.34506062618,61375.34506062618,61375.34506062618,\n",
    "                     61375.34506062618,61375.34506062618,61375.34506062618,61375.34506062618,61375.34506062618]\n",
    "\n",
    "plt.ylabel('MSE')\n",
    "plt.xlabel('Polynomial degree')\n",
    "plt.title('F5 dataset')\n",
    "plt.plot(degree_list, f5_mse, color='r', label='Model Selection')\n",
    "plt.plot(degree_list, f5_non_regularized, color='b', label='Unregularized')\n",
    "plt.legend(loc='best')\n",
    "plt.show()"
   ]
  },
  {
   "cell_type": "markdown",
   "metadata": {},
   "source": [
    "The non-regularized model has more error MSE in both the f3 and f5 datasets"
   ]
  },
  {
   "cell_type": "code",
   "execution_count": null,
   "metadata": {},
   "outputs": [],
   "source": []
  }
 ],
 "metadata": {
  "kernelspec": {
   "display_name": "Python 2",
   "language": "python",
   "name": "python2"
  },
  "language_info": {
   "codemirror_mode": {
    "name": "ipython",
    "version": 2
   },
   "file_extension": ".py",
   "mimetype": "text/x-python",
   "name": "python",
   "nbconvert_exporter": "python",
   "pygments_lexer": "ipython2",
   "version": "2.7.16"
  }
 },
 "nbformat": 4,
 "nbformat_minor": 2
}
